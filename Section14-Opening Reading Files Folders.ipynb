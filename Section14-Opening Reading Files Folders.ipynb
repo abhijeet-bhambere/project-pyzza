{
 "cells": [
  {
   "cell_type": "markdown",
   "metadata": {},
   "source": [
    "___\n",
    "# OS Modules\n",
    "\n",
    "Shutil and OS modules for reading & opening files/ folders<br>\n",
    "<br>\n",
    "\n"
   ]
  },
  {
   "cell_type": "markdown",
   "metadata": {},
   "source": [
    "_Firstly, lets revisit some methods used previously to accessing files & paths:_"
   ]
  },
  {
   "cell_type": "code",
   "execution_count": 7,
   "metadata": {},
   "outputs": [
    {
     "name": "stdout",
     "output_type": "stream",
     "text": [
      "Hi this is a text file\n",
      "\n",
      "This is the second line\n",
      "\n",
      "This is the third line\n",
      "\n",
      "\n",
      "\n",
      "Added this line\n",
      "\n",
      "Added another line\n"
     ]
    }
   ],
   "source": [
    "#opening a txt file in read mode\n",
    "with open('thisfile.txt','r') as f:\n",
    "    for line in f:\n",
    "        print(line)\n"
   ]
  },
  {
   "cell_type": "markdown",
   "metadata": {},
   "source": [
    "_Finding the current working directory:_"
   ]
  },
  {
   "cell_type": "code",
   "execution_count": 8,
   "metadata": {},
   "outputs": [
    {
     "data": {
      "text/plain": [
       "'c:\\\\Users\\\\H359416\\\\Desktop\\\\RESOURCES\\\\a_Pyzza'"
      ]
     },
     "execution_count": 8,
     "metadata": {},
     "output_type": "execute_result"
    }
   ],
   "source": [
    "pwd"
   ]
  },
  {
   "cell_type": "markdown",
   "metadata": {},
   "source": [
    "___\n",
    "### Recap: \n",
    "Revisiting the io module & its <code>open()</code>, <code>write()</code> , <code>readlines()</code> funcs: "
   ]
  },
  {
   "cell_type": "code",
   "execution_count": 9,
   "metadata": {},
   "outputs": [],
   "source": [
    "with open('newTestFile09June2024.txt','w') as f:\n",
    "    f.write('Created this file for practice\\nHello World')\n"
   ]
  },
  {
   "cell_type": "code",
   "execution_count": 1,
   "metadata": {},
   "outputs": [
    {
     "name": "stdout",
     "output_type": "stream",
     "text": [
      "Created this file for practice\n",
      "\n",
      "Hello World\n",
      "\n",
      "This is a new line\n"
     ]
    }
   ],
   "source": [
    "with open('newTestFile09June2024.txt','r') as f:\n",
    "    content = f.readlines()\n",
    "    for each in content:\n",
    "        print(each)"
   ]
  },
  {
   "cell_type": "markdown",
   "metadata": {},
   "source": [
    "_NOTE: that that `readlines()` method reads each line in the txt file & outputs a list with each line as an element_"
   ]
  },
  {
   "cell_type": "code",
   "execution_count": 2,
   "metadata": {},
   "outputs": [
    {
     "data": {
      "text/plain": [
       "['Created this file for practice\\n', 'Hello World\\n', 'This is a new line']"
      ]
     },
     "execution_count": 2,
     "metadata": {},
     "output_type": "execute_result"
    }
   ],
   "source": [
    "content"
   ]
  },
  {
   "cell_type": "code",
   "execution_count": 11,
   "metadata": {},
   "outputs": [
    {
     "name": "stdout",
     "output_type": "stream",
     "text": [
      "Created this file for practice\n",
      "\n",
      "Hello World\n",
      "\n",
      "This is a new line\n"
     ]
    }
   ],
   "source": [
    "with open('newTestFile09June2024.txt','a') as f:\n",
    "    f.write(\"\\nThis is a new line\")\n",
    "\n",
    "with open('newTestFile09June2024.txt','r') as f:\n",
    "    content = f.readlines()\n",
    "    for each in content:\n",
    "        print(each)"
   ]
  },
  {
   "cell_type": "markdown",
   "metadata": {},
   "source": [
    "___\n",
    "## OS Module\n"
   ]
  },
  {
   "cell_type": "code",
   "execution_count": 12,
   "metadata": {},
   "outputs": [
    {
     "data": {
      "text/plain": [
       "'c:\\\\Users\\\\H359416\\\\Desktop\\\\RESOURCES\\\\a_Pyzza'"
      ]
     },
     "execution_count": 12,
     "metadata": {},
     "output_type": "execute_result"
    }
   ],
   "source": [
    "import os\n",
    "#get the current working directory:\n",
    "os.getcwd()"
   ]
  },
  {
   "cell_type": "code",
   "execution_count": 13,
   "metadata": {},
   "outputs": [
    {
     "data": {
      "text/plain": [
       "['.ipynb_checkpoints',\n",
       " '02-Errors and Exceptions Homework.ipynb',\n",
       " '02-Iterators and Generators Homework.ipynb',\n",
       " '02-Milestone Project 1 - Walkthrough Steps Workbook.ipynb',\n",
       " '02-MilestoneProject1 - REVISE.ipynb',\n",
       " '02-Object Oriented Programming Homework.ipynb',\n",
       " '03-Function Practice Exercises.ipynb',\n",
       " '04-OOP Challenge.ipynb',\n",
       " '07-Statements Assessment Test.ipynb',\n",
       " '08-Functions and Methods Homework.ipynb',\n",
       " '09-Objects and Data Structures Assessment Test.ipynb',\n",
       " 'cap.py',\n",
       " 'cap_test.py',\n",
       " 'courseNotes-mypycourse.ipynb',\n",
       " 'dummyrun.py',\n",
       " 'MyMainPackage',\n",
       " 'myModule.py',\n",
       " 'myProgram.py',\n",
       " 'newTestFile09June2024.txt',\n",
       " 'one.py',\n",
       " 'practicePySet.ipynb',\n",
       " 'pythonProject',\n",
       " 'Revisit.py',\n",
       " 'Revisit1.py',\n",
       " 'sampleText.txt',\n",
       " 'Seciton11-CMP2 Run-up.ipynb',\n",
       " 'Section10-Errors and exception handling.ipynb',\n",
       " 'Section10-PyLint And UnitTest.py',\n",
       " 'section10Test',\n",
       " 'section10Test.txt',\n",
       " 'Section11-CMP2.ipynb',\n",
       " 'Section11_CMP2.py',\n",
       " 'Section12-Decorators_Generators.ipynb',\n",
       " 'Section14-AdvancedPyModules.ipynb',\n",
       " 'Section14-Opening Reading Files Folders.ipynb',\n",
       " 'Section2-First contact.ipynb',\n",
       " 'Section3-Data types & objects basics.ipynb',\n",
       " 'Section4-Comparison operators.ipynb',\n",
       " 'Section5-Python Statements.ipynb',\n",
       " 'Section6-MethodsAndFuncs.ipynb',\n",
       " 'Section7-MilestoneProj-1.ipynb',\n",
       " 'Section8-Object Oriented Programming.ipynb',\n",
       " 'simple1.py',\n",
       " 'simple2.py',\n",
       " 'thisfile.txt',\n",
       " 'two.py',\n",
       " '__pycache__']"
      ]
     },
     "execution_count": 13,
     "metadata": {},
     "output_type": "execute_result"
    }
   ],
   "source": [
    "#Get a list of all files in current directory\n",
    "os.listdir()"
   ]
  },
  {
   "cell_type": "code",
   "execution_count": 14,
   "metadata": {},
   "outputs": [
    {
     "data": {
      "text/plain": [
       "['.ipynb_checkpoints',\n",
       " '70-6927 BAS System Catalog.pdf',\n",
       " 'ASHRAE IAQ_Guide.pdf',\n",
       " 'a_Pyzza',\n",
       " 'dsa',\n",
       " 'Grey Manual SI.PDF',\n",
       " 'Honeywell_Gas Book_V5_0413_LR_EN.pdf',\n",
       " 'KaizenLog.xlsx',\n",
       " 'My Projects List.xlsx',\n",
       " 'PBI',\n",
       " 'PowerApps',\n",
       " 'Skyspark PPT',\n",
       " 'skyspark-3.1.8.zip',\n",
       " 'SL-53-2444 CPO Technical and Guide Specification.pdf',\n",
       " 'SQL',\n",
       " 'state-of-data-analytics.pdf',\n",
       " 'Tableau training2',\n",
       " 'wDev',\n",
       " 'z_AB']"
      ]
     },
     "execution_count": 14,
     "metadata": {},
     "output_type": "execute_result"
    }
   ],
   "source": [
    "#Can be used to list files from other directory also (going one folder-level up in this case)\n",
    "os.listdir('C:\\\\Users\\\\H359416\\\\Desktop\\\\Resources')"
   ]
  },
  {
   "cell_type": "markdown",
   "metadata": {},
   "source": [
    "___\n",
    "## shutil module - Shell utility module\n",
    "Used to perform high-level operations on the file / folders "
   ]
  },
  {
   "cell_type": "code",
   "execution_count": 15,
   "metadata": {},
   "outputs": [],
   "source": [
    "import shutil\n"
   ]
  },
  {
   "cell_type": "markdown",
   "metadata": {},
   "source": [
    "_Moving the above created file <code>newTestFile09June2024.txt</code> to Desktop_"
   ]
  },
  {
   "cell_type": "code",
   "execution_count": 16,
   "metadata": {},
   "outputs": [
    {
     "data": {
      "text/plain": [
       "'C:\\\\Users\\\\H359416\\\\Desktop\\\\newTestFile09June2024.txt'"
      ]
     },
     "execution_count": 16,
     "metadata": {},
     "output_type": "execute_result"
    }
   ],
   "source": [
    "shutil.move('newTestFile09June2024.txt','C:\\\\Users\\\\H359416\\\\Desktop')"
   ]
  },
  {
   "cell_type": "markdown",
   "metadata": {},
   "source": [
    "_The file transfer can be verified using the <code>listdir()</code> func_"
   ]
  },
  {
   "cell_type": "code",
   "execution_count": 17,
   "metadata": {},
   "outputs": [
    {
     "data": {
      "text/plain": [
       "['25Apr2024 Prospect Heights Sentience extract.xlsx',\n",
       " 'A1 German',\n",
       " 'Alarm Portal.lnk',\n",
       " 'AllCustomers_EU_ServiceCases_01052024-01062024.xlsx',\n",
       " 'barroncounty listag (1)',\n",
       " 'barroncounty listag (1).7z',\n",
       " 'CBLDG ticket fields.txt',\n",
       " 'ccValidation.trio',\n",
       " 'Cloud.Connector.IntegrationTestTool.7z',\n",
       " 'desktop.ini',\n",
       " 'Draft - DM Post On boarding - AOC - Confluence.url',\n",
       " 'DVN new listag.xlsx',\n",
       " 'folio_Mismatch.xlsx',\n",
       " 'hamdanmeter.xlsx',\n",
       " 'HONEYWELL - Chrome.lnk',\n",
       " 'How_to_add_and_delete_points_in_bulk_to_EBI_Standard_History_Rev2.pdf',\n",
       " 'IGTPackageTemplate',\n",
       " 'IN_CSV DVN new listag.csv',\n",
       " 'listag List Point File.xml',\n",
       " 'listag.xml',\n",
       " 'modules',\n",
       " 'modules.zip',\n",
       " 'MonthlyReportingNotes.txt',\n",
       " 'NEW IN_CSV DVN new listag.csv',\n",
       " 'newTestFile09June2024.txt',\n",
       " 'PNT-Lovington_Municipal_Schools-16Dec2020.pnt',\n",
       " 'pointorequip',\n",
       " 'Postman.lnk',\n",
       " 'PUHSD Camelback-site list.xlsx',\n",
       " 'Reports',\n",
       " 'RESOURCES',\n",
       " 'RhinoRack-FolderTest.xlsx',\n",
       " 'RhinoRack-Raw point extract-13Dec2022.xlsx',\n",
       " 'RoughNote.txt',\n",
       " 'ServiceCaseMacro_v1.15.xlsm',\n",
       " 'ServiceCase_Extract (1).ps1',\n",
       " 'testMainModule.py',\n",
       " 'testSubModule.py',\n",
       " 'Visual Studio Code.lnk',\n",
       " 'Vykon_N4_Supervisor-4.8.0.110.6',\n",
       " 'Work - Edge.lnk',\n",
       " 'Workbench.lnk',\n",
       " '__pycache__']"
      ]
     },
     "execution_count": 17,
     "metadata": {},
     "output_type": "execute_result"
    }
   ],
   "source": [
    "os.listdir('C:\\\\Users\\\\H359416\\\\Desktop')"
   ]
  },
  {
   "cell_type": "markdown",
   "metadata": {},
   "source": [
    "___\n",
    "### Deleting files & folders: The os module provides 3 methods for deleting files:\n",
    "\n",
    "<code>os.unlink(path)</code> which deletes a file at the path your provide <br>\n",
    "<br>\n",
    "<code>os.rmdir(path)</code> which deletes a folder (folder must be empty) at the path your provide<br>\n",
    "<br>\n",
    "<code>shutil.rmtree(path)</code> this is the most dangerous, as it will remove all files and folders contained in the path. All the above methods **can not be reversed!** Which means if you make a mistake you won't be able to recover the file.<br>\n",
    "<br>\n",
    "Instead we will use the <code>send2trash</code> module. A safer alternative that sends deleted files to the trash bin instead of permanent removal."
   ]
  },
  {
   "cell_type": "code",
   "execution_count": 19,
   "metadata": {},
   "outputs": [
    {
     "data": {
      "text/plain": [
       "'c:\\\\Users\\\\H359416\\\\Desktop\\\\RESOURCES\\\\a_Pyzza\\\\newTestFile09June2024.txt'"
      ]
     },
     "execution_count": 19,
     "metadata": {},
     "output_type": "execute_result"
    }
   ],
   "source": [
    "#Moving the test file back to current working directory:\n",
    "shutil.move('C:\\\\Users\\\\H359416\\\\Desktop\\\\newTestFile09June2024.txt',os.getcwd())"
   ]
  },
  {
   "cell_type": "code",
   "execution_count": 20,
   "metadata": {},
   "outputs": [
    {
     "data": {
      "text/plain": [
       "['.ipynb_checkpoints',\n",
       " '02-Errors and Exceptions Homework.ipynb',\n",
       " '02-Iterators and Generators Homework.ipynb',\n",
       " '02-Milestone Project 1 - Walkthrough Steps Workbook.ipynb',\n",
       " '02-MilestoneProject1 - REVISE.ipynb',\n",
       " '02-Object Oriented Programming Homework.ipynb',\n",
       " '03-Function Practice Exercises.ipynb',\n",
       " '04-OOP Challenge.ipynb',\n",
       " '07-Statements Assessment Test.ipynb',\n",
       " '08-Functions and Methods Homework.ipynb',\n",
       " '09-Objects and Data Structures Assessment Test.ipynb',\n",
       " 'cap.py',\n",
       " 'cap_test.py',\n",
       " 'courseNotes-mypycourse.ipynb',\n",
       " 'dummyrun.py',\n",
       " 'MyMainPackage',\n",
       " 'myModule.py',\n",
       " 'myProgram.py',\n",
       " 'newTestFile09June2024.txt',\n",
       " 'one.py',\n",
       " 'practicePySet.ipynb',\n",
       " 'pythonProject',\n",
       " 'Revisit.py',\n",
       " 'Revisit1.py',\n",
       " 'sampleText.txt',\n",
       " 'Seciton11-CMP2 Run-up.ipynb',\n",
       " 'Section10-Errors and exception handling.ipynb',\n",
       " 'Section10-PyLint And UnitTest.py',\n",
       " 'section10Test',\n",
       " 'section10Test.txt',\n",
       " 'Section11-CMP2.ipynb',\n",
       " 'Section11_CMP2.py',\n",
       " 'Section12-Decorators_Generators.ipynb',\n",
       " 'Section14-AdvancedPyModules.ipynb',\n",
       " 'Section14-Opening Reading Files Folders.ipynb',\n",
       " 'Section2-First contact.ipynb',\n",
       " 'Section3-Data types & objects basics.ipynb',\n",
       " 'Section4-Comparison operators.ipynb',\n",
       " 'Section5-Python Statements.ipynb',\n",
       " 'Section6-MethodsAndFuncs.ipynb',\n",
       " 'Section7-MilestoneProj-1.ipynb',\n",
       " 'Section8-Object Oriented Programming.ipynb',\n",
       " 'simple1.py',\n",
       " 'simple2.py',\n",
       " 'thisfile.txt',\n",
       " 'two.py',\n",
       " '__pycache__']"
      ]
     },
     "execution_count": 20,
     "metadata": {},
     "output_type": "execute_result"
    }
   ],
   "source": [
    "os.listdir()"
   ]
  },
  {
   "cell_type": "code",
   "execution_count": 21,
   "metadata": {},
   "outputs": [
    {
     "name": "stdout",
     "output_type": "stream",
     "text": [
      "Requirement already satisfied: send2trash in c:\\users\\h359416\\desktop\\resources\\a_pyzza\\pythonproject\\.venv\\lib\\site-packages (1.8.3)\n",
      "Note: you may need to restart the kernel to use updated packages.\n"
     ]
    }
   ],
   "source": [
    "pip install send2trash"
   ]
  },
  {
   "cell_type": "code",
   "execution_count": 22,
   "metadata": {},
   "outputs": [],
   "source": [
    "#from send2trash import send2trash"
   ]
  },
  {
   "cell_type": "code",
   "execution_count": 23,
   "metadata": {},
   "outputs": [],
   "source": [
    "#send2trash('c:\\\\Users\\\\H359416\\\\Desktop\\\\RESOURCES\\\\a_Pyzza\\\\newTestFile09June2024.txt')"
   ]
  },
  {
   "cell_type": "code",
   "execution_count": 27,
   "metadata": {},
   "outputs": [
    {
     "data": {
      "text/plain": [
       "'c:\\\\Users\\\\H359416\\\\Desktop\\\\newTestFile09June2024.txt'"
      ]
     },
     "execution_count": 27,
     "metadata": {},
     "output_type": "execute_result"
    }
   ],
   "source": [
    "#Copying a file from one path to another\n",
    "shutil.copy('c:\\\\Users\\\\H359416\\\\Desktop\\\\RESOURCES\\\\a_Pyzza\\\\newTestFile09June2024.txt','c:\\\\Users\\\\H359416\\\\Desktop')"
   ]
  },
  {
   "cell_type": "markdown",
   "metadata": {},
   "source": [
    "___\n",
    "### <code>os.walk()</code> module:\n",
    "For each directory in the directory tree rooted at top (including top itself) and yields a 3-tuple:<br>\n",
    "<br>\n",
    "<code>dirpath</code>, <code>dirnames</code>, <code>filenames</code><br>\n",
    "<br>\n",
    "Main trick is how to unpack the above tuple."
   ]
  },
  {
   "cell_type": "code",
   "execution_count": 98,
   "metadata": {},
   "outputs": [],
   "source": [
    "f2 = os.walk('C:\\\\Users\\\\H359416\\\\Desktop\\\\RESOURCES\\\\a_Pyzza\\\\MyMainPackage')"
   ]
  },
  {
   "cell_type": "code",
   "execution_count": 99,
   "metadata": {},
   "outputs": [
    {
     "name": "stdout",
     "output_type": "stream",
     "text": [
      "Currently looking at folder: C:\\Users\\H359416\\Desktop\\RESOURCES\\a_Pyzza\\MyMainPackage\n",
      "\n",
      "Subfolders are:\n",
      "Subfolder:SubPackage\n",
      "Subfolder:__pycache__\n",
      "\tThe files are:\n",
      "\t\tFiles:mainScript.py\n",
      "\t\tFiles:__init__.py\n",
      "\n",
      "\n",
      "Currently looking at folder: C:\\Users\\H359416\\Desktop\\RESOURCES\\a_Pyzza\\MyMainPackage\\SubPackage\n",
      "\n",
      "Subfolders are:\n",
      "Subfolder:__pycache__\n",
      "\tThe files are:\n",
      "\t\tFiles:subScript.py\n",
      "\t\tFiles:__init__.py\n",
      "\n",
      "\n",
      "Currently looking at folder: C:\\Users\\H359416\\Desktop\\RESOURCES\\a_Pyzza\\MyMainPackage\\SubPackage\\__pycache__\n",
      "\n",
      "Subfolders are:\n",
      "\tThe files are:\n",
      "\t\tFiles:subScript.cpython-311.pyc\n",
      "\t\tFiles:__init__.cpython-311.pyc\n",
      "\n",
      "\n",
      "Currently looking at folder: C:\\Users\\H359416\\Desktop\\RESOURCES\\a_Pyzza\\MyMainPackage\\__pycache__\n",
      "\n",
      "Subfolders are:\n",
      "\tThe files are:\n",
      "\t\tFiles:mainScript.cpython-311.pyc\n",
      "\t\tFiles:__init__.cpython-311.pyc\n",
      "\n",
      "\n"
     ]
    }
   ],
   "source": [
    "#Unpacking the os.walk tuple using  nested for loops\n",
    "#The for loop lists all sub-folders first, then files, then gets into each sub-folders & repeats the loop\n",
    "for main_f1,sub_f1,files in f2:\n",
    "    print(f\"Currently looking at folder: {main_f1}\\n\")\n",
    "    print(f\"Subfolders are:\")\n",
    "    for subf in sub_f1:\n",
    "        print(f\"Subfolder:{subf}\")\n",
    "    #print(\"\\n\")\n",
    "    print(\"\\tThe files are:\")\n",
    "    for f in files:\n",
    "        print(f\"\\t\\tFiles:{f}\")\n",
    "    print(\"\\n\")"
   ]
  },
  {
   "cell_type": "code",
   "execution_count": null,
   "metadata": {},
   "outputs": [],
   "source": []
  },
  {
   "cell_type": "code",
   "execution_count": null,
   "metadata": {},
   "outputs": [],
   "source": []
  }
 ],
 "metadata": {
  "kernelspec": {
   "display_name": ".venv",
   "language": "python",
   "name": "python3"
  },
  "language_info": {
   "codemirror_mode": {
    "name": "ipython",
    "version": 3
   },
   "file_extension": ".py",
   "mimetype": "text/x-python",
   "name": "python",
   "nbconvert_exporter": "python",
   "pygments_lexer": "ipython3",
   "version": "3.11.5"
  }
 },
 "nbformat": 4,
 "nbformat_minor": 2
}
