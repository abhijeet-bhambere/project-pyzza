{
 "cells": [
  {
   "cell_type": "markdown",
   "metadata": {},
   "source": [
    "### Python Condition Statements\n",
    "Useful for controlling the logical flow of the statements based on the conditions specified in the code.<br><br>\n",
    "\n",
    "Logic control flow in python makes use of colons & indentations -- this is unique to python compared to other languages that make use of brackets."
   ]
  },
  {
   "cell_type": "markdown",
   "metadata": {},
   "source": [
    "### A) <code>if-elif-else</code> statements:"
   ]
  },
  {
   "cell_type": "code",
   "execution_count": 1,
   "metadata": {},
   "outputs": [
    {
     "name": "stdout",
     "output_type": "stream",
     "text": [
      "its NOT true\n"
     ]
    }
   ],
   "source": [
    "a=6.6\n",
    "if a>10:                    #this is evaluated as a true/false condition\n",
    "    print('its true!')      #if the if-condition is true, then do this\n",
    "else:                       #else, do this without evaluating. NO conditional statement here\n",
    "    print('its NOT true')"
   ]
  },
  {
   "cell_type": "markdown",
   "metadata": {},
   "source": [
    "Multiple logical branches:"
   ]
  },
  {
   "cell_type": "code",
   "execution_count": 6,
   "metadata": {},
   "outputs": [
    {
     "name": "stdout",
     "output_type": "stream",
     "text": [
      "Welcome to THe Store\n"
     ]
    }
   ],
   "source": [
    "loc='Store'\n",
    "\n",
    "if loc=='Auto shop':\n",
    "    print('Cars are cool!')\n",
    "elif loc=='bank':\n",
    "    print('Money is cool')\n",
    "elif loc=='Store':\n",
    "    print('Welcome to THe Store')\n",
    "else:\n",
    "    print('nah!')\n"
   ]
  },
  {
   "cell_type": "markdown",
   "metadata": {},
   "source": [
    "**NOTE:** indentations are important"
   ]
  },
  {
   "cell_type": "code",
   "execution_count": 13,
   "metadata": {},
   "outputs": [
    {
     "name": "stdout",
     "output_type": "stream",
     "text": [
      "Why are you the way you are?\n"
     ]
    }
   ],
   "source": [
    "name='Stanley'\n",
    "if name=='Jim':\n",
    "    print('Hello Halpert')\n",
    "elif name=='Pam':\n",
    "    print('Hello Beasley')\n",
    "else:\n",
    "    print('Why are you the way you are?')"
   ]
  },
  {
   "cell_type": "markdown",
   "metadata": {},
   "source": [
    "### B) The <code>for</code> loop:"
   ]
  },
  {
   "cell_type": "code",
   "execution_count": 52,
   "metadata": {},
   "outputs": [],
   "source": [
    "mylist=[1,8,7,3,4,5,6]"
   ]
  },
  {
   "cell_type": "code",
   "execution_count": 53,
   "metadata": {},
   "outputs": [
    {
     "name": "stdout",
     "output_type": "stream",
     "text": [
      "1\n",
      "8\n",
      "7\n",
      "3\n",
      "4\n",
      "5\n",
      "6\n"
     ]
    }
   ],
   "source": [
    "for num in mylist:\n",
    "    print(num)"
   ]
  },
  {
   "cell_type": "code",
   "execution_count": 54,
   "metadata": {},
   "outputs": [
    {
     "name": "stdout",
     "output_type": "stream",
     "text": [
      "1 is odd\n",
      "8 is even\n",
      "7 is odd\n",
      "3 is odd\n",
      "4 is even\n",
      "5 is odd\n",
      "6 is even\n"
     ]
    }
   ],
   "source": [
    "for num in mylist:\n",
    "    if num%2==0:\n",
    "        print(f'{num} is even')\n",
    "    else:\n",
    "        print(f'{num} is odd')\n"
   ]
  },
  {
   "cell_type": "code",
   "execution_count": 22,
   "metadata": {},
   "outputs": [
    {
     "name": "stdout",
     "output_type": "stream",
     "text": [
      "1\n",
      "3\n",
      "6\n",
      "10\n",
      "15\n",
      "21\n",
      "28\n",
      "36\n"
     ]
    }
   ],
   "source": [
    "sum_list = 0\n",
    "\n",
    "for num in mylist:\n",
    "    sum_list=sum_list+num   \n",
    "    print(sum_list)         #Note that indentation of the print clause matters"
   ]
  },
  {
   "cell_type": "code",
   "execution_count": 23,
   "metadata": {},
   "outputs": [
    {
     "name": "stdout",
     "output_type": "stream",
     "text": [
      "H\n",
      "e\n",
      "l\n",
      "l\n",
      "o\n",
      " \n",
      "w\n",
      "o\n",
      "r\n",
      "l\n",
      "d\n"
     ]
    }
   ],
   "source": [
    "my_string='Hello world'\n",
    "for letter in my_string:\n",
    "    print(letter)"
   ]
  },
  {
   "cell_type": "code",
   "execution_count": 24,
   "metadata": {},
   "outputs": [
    {
     "name": "stdout",
     "output_type": "stream",
     "text": [
      "h\n",
      "e\n",
      "l\n",
      "l\n",
      "o\n",
      " \n",
      "w\n",
      "o\n",
      "r\n",
      "l\n",
      "d\n"
     ]
    }
   ],
   "source": [
    "for letter in 'hello world':\n",
    "    print(letter)"
   ]
  },
  {
   "cell_type": "code",
   "execution_count": 27,
   "metadata": {},
   "outputs": [
    {
     "name": "stdout",
     "output_type": "stream",
     "text": [
      "H\n",
      "e\n",
      "l\n",
      "l\n",
      "o\n",
      " \n",
      "w\n",
      "o\n",
      "r\n",
      "l\n",
      "d\n"
     ]
    }
   ],
   "source": [
    "for _ in 'Hello world':\n",
    "    print(_)"
   ]
  },
  {
   "cell_type": "code",
   "execution_count": 28,
   "metadata": {},
   "outputs": [
    {
     "name": "stdout",
     "output_type": "stream",
     "text": [
      "1\n",
      "2\n",
      "3\n",
      "4\n"
     ]
    }
   ],
   "source": [
    "tup=(1,2,3,4)\n",
    "for item in tup:\n",
    "    print(item)"
   ]
  },
  {
   "cell_type": "markdown",
   "metadata": {},
   "source": [
    "**Tuple unpacking**: accessing individual elements from a Tuple nested within a List"
   ]
  },
  {
   "cell_type": "code",
   "execution_count": 35,
   "metadata": {},
   "outputs": [],
   "source": [
    "my_list=[(1,2),(3,4),(5,6),(7,8)]"
   ]
  },
  {
   "cell_type": "code",
   "execution_count": 33,
   "metadata": {},
   "outputs": [
    {
     "data": {
      "text/plain": [
       "4"
      ]
     },
     "execution_count": 33,
     "metadata": {},
     "output_type": "execute_result"
    }
   ],
   "source": [
    "len(my_list)"
   ]
  },
  {
   "cell_type": "code",
   "execution_count": 40,
   "metadata": {},
   "outputs": [
    {
     "name": "stdout",
     "output_type": "stream",
     "text": [
      "1 is an odd no.\n",
      "2 is an even no.\n",
      "3 is an odd no.\n",
      "4 is an even no.\n",
      "5 is an odd no.\n",
      "6 is an even no.\n",
      "7 is an odd no.\n",
      "8 is an even no.\n"
     ]
    }
   ],
   "source": [
    "for a,b in my_list:\n",
    "    print(f'{a} is an odd no.')\n",
    "    print(f'{b} is an even no.')\n"
   ]
  },
  {
   "cell_type": "code",
   "execution_count": 41,
   "metadata": {},
   "outputs": [],
   "source": [
    "lmnt=[(1,2,3),(4,5,6),(7,8,9)]"
   ]
  },
  {
   "cell_type": "code",
   "execution_count": 42,
   "metadata": {},
   "outputs": [
    {
     "name": "stdout",
     "output_type": "stream",
     "text": [
      "2\n",
      "5\n",
      "8\n"
     ]
    }
   ],
   "source": [
    "for a,b,c in lmnt:\n",
    "    print(b)"
   ]
  },
  {
   "cell_type": "markdown",
   "metadata": {},
   "source": [
    "**Iterating through a dict:** Note that for loop will conduct an operation on the keys by default. <br>\n",
    "To access the value of each of the key, we use the <code>.items()</code> operator. <br>\n",
    "The concept is similar to unpacking of tuple seen above."
   ]
  },
  {
   "cell_type": "code",
   "execution_count": 43,
   "metadata": {},
   "outputs": [
    {
     "name": "stdout",
     "output_type": "stream",
     "text": [
      "k1\n",
      "k2\n",
      "k3\n",
      "k4\n"
     ]
    }
   ],
   "source": [
    "d={'k1':1,'k2':2,'k3':3,'k4':4}\n",
    "\n",
    "for item in d:\n",
    "    print(item)"
   ]
  },
  {
   "cell_type": "code",
   "execution_count": 44,
   "metadata": {},
   "outputs": [
    {
     "name": "stdout",
     "output_type": "stream",
     "text": [
      "('k1', 1)\n",
      "('k2', 2)\n",
      "('k3', 3)\n",
      "('k4', 4)\n"
     ]
    }
   ],
   "source": [
    "for item in d.items():\n",
    "    print(item)"
   ]
  },
  {
   "cell_type": "code",
   "execution_count": 51,
   "metadata": {},
   "outputs": [
    {
     "name": "stdout",
     "output_type": "stream",
     "text": [
      "1\n",
      "2\n",
      "3\n",
      "4\n"
     ]
    }
   ],
   "source": [
    "for val in d.values():\n",
    "    print(val)"
   ]
  },
  {
   "cell_type": "code",
   "execution_count": 55,
   "metadata": {},
   "outputs": [
    {
     "name": "stdout",
     "output_type": "stream",
     "text": [
      "k1 contains 1\n",
      "k2 contains 2\n",
      "k3 contains 3\n",
      "k4 contains 4\n"
     ]
    }
   ],
   "source": [
    "for item,value in d.items():\n",
    "    print(f'{item} contains {value}')"
   ]
  },
  {
   "cell_type": "markdown",
   "metadata": {},
   "source": [
    "### C) The <code>while</code> loop:"
   ]
  },
  {
   "cell_type": "code",
   "execution_count": 66,
   "metadata": {},
   "outputs": [
    {
     "name": "stdout",
     "output_type": "stream",
     "text": [
      "starting val is 0\n",
      "the current val is 0\n",
      "the current val is 1\n",
      "the current val is 2\n",
      "the current val is 3\n",
      "the current val is 4\n",
      "x is not less than 5\n"
     ]
    }
   ],
   "source": [
    "x=0\n",
    "print(f'starting val is {x}')\n",
    "while x<5:  #while this is true, do this...\n",
    "    print(f'the current val is {x}')\n",
    "    x+=1    #until this is true...\n",
    "else:       #Else do this ...\n",
    "    print('x is not less than 5')"
   ]
  },
  {
   "cell_type": "markdown",
   "metadata": {},
   "source": [
    "**Keywords for Loops:**\n",
    "<code>break</code> , <code>continue</code> , <code>pass</code>"
   ]
  },
  {
   "cell_type": "markdown",
   "metadata": {},
   "source": [
    "### <code>break</code> <code>continue</code> <code>pass</code>\n",
    "break: Breaks out of the current closest enclosing loop.<br>\n",
    "continue: Goes to the top of the closest enclosing loop.<br>\n",
    "pass: Does nothing at all."
   ]
  },
  {
   "cell_type": "code",
   "execution_count": 7,
   "metadata": {},
   "outputs": [
    {
     "name": "stdout",
     "output_type": "stream",
     "text": [
      "end of script\n"
     ]
    }
   ],
   "source": [
    "b=[1,2,3,4]\n",
    "\n",
    "for item in b:\n",
    "    #comment\n",
    "    pass        #Introducing as a placeholder\n",
    "print('end of script')"
   ]
  },
  {
   "cell_type": "code",
   "execution_count": 25,
   "metadata": {},
   "outputs": [],
   "source": [
    "c='Sammy'"
   ]
  },
  {
   "cell_type": "code",
   "execution_count": 11,
   "metadata": {},
   "outputs": [
    {
     "name": "stdout",
     "output_type": "stream",
     "text": [
      "S\n",
      "a\n",
      "y\n"
     ]
    }
   ],
   "source": [
    "for item in c:\n",
    "    if item=='m':\n",
    "        continue        #means to go back to the top and based on conditional, go to next line\n",
    "    print(item)"
   ]
  },
  {
   "cell_type": "code",
   "execution_count": 12,
   "metadata": {},
   "outputs": [
    {
     "name": "stdout",
     "output_type": "stream",
     "text": [
      "S\n",
      "a\n"
     ]
    }
   ],
   "source": [
    "for item in c:\n",
    "    if item=='m':\n",
    "        break        #stops & comes out of the loop\n",
    "    print(item)"
   ]
  },
  {
   "cell_type": "code",
   "execution_count": 21,
   "metadata": {},
   "outputs": [
    {
     "name": "stdout",
     "output_type": "stream",
     "text": [
      "0\n",
      "1\n"
     ]
    }
   ],
   "source": [
    "x=0\n",
    "\n",
    "while x<5:\n",
    "    if x==2:         #stops & comes out of the loop if condition matches\n",
    "        break\n",
    "    print(x)\n",
    "    x+=1"
   ]
  },
  {
   "cell_type": "markdown",
   "metadata": {},
   "source": [
    "### Other useful operators"
   ]
  },
  {
   "cell_type": "markdown",
   "metadata": {},
   "source": [
    "### <code>range()</code> operator\n",
    "Starting from x go all the way upto y, but excluding y<br>\n",
    "<code>range([start], stop[, step])</code><br>\n",
    "We can also include step size"
   ]
  },
  {
   "cell_type": "code",
   "execution_count": 16,
   "metadata": {},
   "outputs": [],
   "source": [
    "alist=[1,2,3,4,5]"
   ]
  },
  {
   "cell_type": "code",
   "execution_count": 17,
   "metadata": {},
   "outputs": [
    {
     "data": {
      "text/plain": [
       "[1, 2, 3, 4, 5]"
      ]
     },
     "execution_count": 17,
     "metadata": {},
     "output_type": "execute_result"
    }
   ],
   "source": [
    "alist"
   ]
  },
  {
   "cell_type": "code",
   "execution_count": 20,
   "metadata": {},
   "outputs": [
    {
     "name": "stdout",
     "output_type": "stream",
     "text": [
      "0\n",
      "2\n",
      "4\n",
      "6\n",
      "8\n",
      "10\n"
     ]
    }
   ],
   "source": [
    "for num in range(0,11,2):\n",
    "    print(num) "
   ]
  },
  {
   "cell_type": "markdown",
   "metadata": {},
   "source": [
    "<code>range()</code> is a sort of a generator function."
   ]
  },
  {
   "cell_type": "code",
   "execution_count": 2,
   "metadata": {},
   "outputs": [
    {
     "data": {
      "text/plain": [
       "[0, 2, 4, 6, 8, 10]"
      ]
     },
     "execution_count": 2,
     "metadata": {},
     "output_type": "execute_result"
    }
   ],
   "source": [
    "list(range(0,11,2))"
   ]
  },
  {
   "cell_type": "markdown",
   "metadata": {},
   "source": [
    "___\n",
    "### The <code>enumerate</code> & <code>zip</code> are powerful funcs for packing & unpacking tuples "
   ]
  },
  {
   "cell_type": "markdown",
   "metadata": {},
   "source": [
    "### <code>enumerate()</code> func"
   ]
  },
  {
   "cell_type": "markdown",
   "metadata": {},
   "source": [
    "Below code is one way to print all letters along with their index<br>\n",
    "So, to  have a counter for each iteration of the <code>for</code> loop,we create a running index counter (index_count variable) that will increase on each iteration"
   ]
  },
  {
   "cell_type": "code",
   "execution_count": 24,
   "metadata": {},
   "outputs": [
    {
     "name": "stdout",
     "output_type": "stream",
     "text": [
      "At index 0 ,the letter is a\n",
      "At index 1 ,the letter is b\n",
      "At index 2 ,the letter is c\n",
      "At index 3 ,the letter is d\n",
      "At index 4 ,the letter is e\n",
      "At index 5 ,the letter is f\n",
      "At index 6 ,the letter is g\n"
     ]
    }
   ],
   "source": [
    "word='abcdefg'\n",
    "index_count=0\n",
    "\n",
    "for letter in word:\n",
    "    print(f'At index {index_count} ,the letter is {letter}')\n",
    "    index_count+=1"
   ]
  },
  {
   "cell_type": "markdown",
   "metadata": {},
   "source": [
    "Another way could be to use a *list* index[] method. So again we end up calling a running value (the index_count)"
   ]
  },
  {
   "cell_type": "code",
   "execution_count": 33,
   "metadata": {},
   "outputs": [
    {
     "name": "stdout",
     "output_type": "stream",
     "text": [
      "At index 0 ,the letter is a\n",
      "At index 1 ,the letter is b\n",
      "At index 2 ,the letter is c\n",
      "At index 3 ,the letter is d\n"
     ]
    }
   ],
   "source": [
    "word1='abcd'\n",
    "index_count=0\n",
    "for letter in word1:\n",
    "    print(f'At index {index_count} ,the letter is {word1[index_count]}')\n",
    "    index_count+=1"
   ]
  },
  {
   "cell_type": "markdown",
   "metadata": {},
   "source": [
    "The need for a running index value can be eliminated &code can be made even simpler using the <code>enumerate()</code> func.<br>\n",
    "***It returns an indexed list of tuples***"
   ]
  },
  {
   "cell_type": "code",
   "execution_count": 38,
   "metadata": {},
   "outputs": [
    {
     "name": "stdout",
     "output_type": "stream",
     "text": [
      "(0, 'a')\n",
      "(1, 'b')\n",
      "(2, 'c')\n",
      "(3, 'd')\n",
      "(4, 'e')\n"
     ]
    }
   ],
   "source": [
    "word2='abcde'\n",
    "for index in enumerate(word2):\n",
    "    print(index)"
   ]
  },
  {
   "cell_type": "markdown",
   "metadata": {},
   "source": [
    "Below statement will unpack the tuple into its constituent values which can then be called as per requirement"
   ]
  },
  {
   "cell_type": "code",
   "execution_count": 11,
   "metadata": {},
   "outputs": [
    {
     "name": "stdout",
     "output_type": "stream",
     "text": [
      "0 a\n",
      "1 b\n",
      "2 c\n",
      "3 d\n",
      "4 e\n"
     ]
    }
   ],
   "source": [
    "word2='abcde'\n",
    "for index,value in enumerate(word2):\n",
    "    print(index,value)"
   ]
  },
  {
   "cell_type": "markdown",
   "metadata": {},
   "source": [
    "There are further ways the result can be unpacked:"
   ]
  },
  {
   "cell_type": "code",
   "execution_count": 41,
   "metadata": {},
   "outputs": [
    {
     "name": "stdout",
     "output_type": "stream",
     "text": [
      "0 q\n",
      "\n",
      "\n",
      "1 w\n",
      "\n",
      "\n",
      "2 e\n",
      "\n",
      "\n",
      "3 r\n",
      "\n",
      "\n",
      "4 t\n",
      "\n",
      "\n",
      "5 y\n",
      "\n",
      "\n"
     ]
    }
   ],
   "source": [
    "word3='qwerty'\n",
    "for index,value in enumerate(word3):\n",
    "    print(index,value)\n",
    "    print('\\n')"
   ]
  },
  {
   "cell_type": "markdown",
   "metadata": {},
   "source": [
    "### <code>zip()</code> func"
   ]
  },
  {
   "cell_type": "markdown",
   "metadata": {},
   "source": [
    "Its used to combine *(or zip)* multiple iterables (such as lists, tuples, or strings) element-wise into a single iterable.<br>\n",
    "It returns an iterator of tuples where the <code>*i-th*</code> tuple contains the <code>*i-th*</code> element from each of the input iterables"
   ]
  },
  {
   "cell_type": "markdown",
   "metadata": {},
   "source": [
    "**NOTE:** null (NONE) values from one list can also be combined/zipped with values of another list"
   ]
  },
  {
   "cell_type": "code",
   "execution_count": 19,
   "metadata": {},
   "outputs": [
    {
     "name": "stdout",
     "output_type": "stream",
     "text": [
      "('a', 1)\n",
      "('b', 2)\n",
      "('c', 3)\n",
      "('d', 4)\n",
      "('e', 5)\n",
      "(None, 6)\n",
      "(None, 7)\n"
     ]
    }
   ],
   "source": [
    "mylist1=['a','b','c','d','e',None,None]\n",
    "mylist2=[1,2,3,4,5,6,7]\n",
    "\n",
    "for item in zip(mylist1,mylist2):\n",
    "    print(item)"
   ]
  },
  {
   "cell_type": "markdown",
   "metadata": {},
   "source": [
    "The resulting tuple can also be converted into a list"
   ]
  },
  {
   "cell_type": "code",
   "execution_count": null,
   "metadata": {},
   "outputs": [],
   "source": [
    "asd=list(zip(mylist1,mylist2))\n",
    "for each in asd:\n",
    "    print(each)"
   ]
  },
  {
   "cell_type": "code",
   "execution_count": 45,
   "metadata": {},
   "outputs": [
    {
     "name": "stdout",
     "output_type": "stream",
     "text": [
      "('a', 1)\n",
      "('b', 2)\n",
      "('c', 3)\n",
      "('d', 4)\n",
      "('e', 5)\n",
      "(None, 6)\n",
      "(None, 7)\n"
     ]
    }
   ],
   "source": [
    "asd=list(zip(mylist1,mylist2))\n",
    "for each in asd:\n",
    "    print(each)"
   ]
  },
  {
   "cell_type": "markdown",
   "metadata": {},
   "source": [
    "### <code>in</code> operator"
   ]
  },
  {
   "cell_type": "markdown",
   "metadata": {},
   "source": [
    "Its used to check whether a value exists within a sequence (such as a list, tuple, string, or set). It returns <code>True</code> if the value is found in the sequence and <code>False</code> otherwise. The in operator is commonly used in conditional statements, loops, and membership tests."
   ]
  },
  {
   "cell_type": "code",
   "execution_count": 46,
   "metadata": {},
   "outputs": [
    {
     "data": {
      "text/plain": [
       "True"
      ]
     },
     "execution_count": 46,
     "metadata": {},
     "output_type": "execute_result"
    }
   ],
   "source": [
    "'x' in ['a','b','x','y']"
   ]
  },
  {
   "cell_type": "code",
   "execution_count": 47,
   "metadata": {},
   "outputs": [
    {
     "data": {
      "text/plain": [
       "True"
      ]
     },
     "execution_count": 47,
     "metadata": {},
     "output_type": "execute_result"
    }
   ],
   "source": [
    "'o' in \"Hello world\""
   ]
  },
  {
   "cell_type": "code",
   "execution_count": 12,
   "metadata": {},
   "outputs": [],
   "source": [
    "d9={'a':1,'b':23,'c':567}"
   ]
  },
  {
   "cell_type": "code",
   "execution_count": 19,
   "metadata": {},
   "outputs": [
    {
     "data": {
      "text/plain": [
       "False"
      ]
     },
     "execution_count": 19,
     "metadata": {},
     "output_type": "execute_result"
    }
   ],
   "source": [
    "2 in d9.values()"
   ]
  },
  {
   "cell_type": "markdown",
   "metadata": {},
   "source": [
    "### <code>min</code> & <code>max</code> operators\n",
    "Provide the min & max values of a list"
   ]
  },
  {
   "cell_type": "code",
   "execution_count": 2,
   "metadata": {},
   "outputs": [],
   "source": [
    "a5=[23,456,789,70,40,809]"
   ]
  },
  {
   "cell_type": "code",
   "execution_count": 3,
   "metadata": {},
   "outputs": [
    {
     "data": {
      "text/plain": [
       "[23, 456, 789, 70, 40, 809]"
      ]
     },
     "execution_count": 3,
     "metadata": {},
     "output_type": "execute_result"
    }
   ],
   "source": [
    "a5"
   ]
  },
  {
   "cell_type": "code",
   "execution_count": 4,
   "metadata": {},
   "outputs": [
    {
     "name": "stdout",
     "output_type": "stream",
     "text": [
      "minimum val of the list a5 is _23_ & maximum value is 809\n"
     ]
    }
   ],
   "source": [
    "print(f'minimum val of the list a5 is _{min(a5)}_ & maximum value is {max(a5)}')"
   ]
  },
  {
   "cell_type": "markdown",
   "metadata": {},
   "source": [
    "### Importing the <code>random</code> library"
   ]
  },
  {
   "cell_type": "markdown",
   "metadata": {},
   "source": [
    "Importing the <code>random()</code> func to generate a random floating integer between 0.0 to 1.0 "
   ]
  },
  {
   "cell_type": "code",
   "execution_count": 20,
   "metadata": {},
   "outputs": [],
   "source": [
    "from random import random"
   ]
  },
  {
   "cell_type": "code",
   "execution_count": 22,
   "metadata": {},
   "outputs": [
    {
     "data": {
      "text/plain": [
       "0.6950005238013018"
      ]
     },
     "execution_count": 22,
     "metadata": {},
     "output_type": "execute_result"
    }
   ],
   "source": [
    "random()"
   ]
  },
  {
   "cell_type": "code",
   "execution_count": 69,
   "metadata": {},
   "outputs": [],
   "source": [
    "from random import shuffle"
   ]
  },
  {
   "cell_type": "markdown",
   "metadata": {},
   "source": [
    "Here we imported <code>shuffle()</code> func that randomly shuffles the items of a list"
   ]
  },
  {
   "cell_type": "code",
   "execution_count": 79,
   "metadata": {},
   "outputs": [],
   "source": [
    "shuffle(a5)"
   ]
  },
  {
   "cell_type": "code",
   "execution_count": 80,
   "metadata": {},
   "outputs": [
    {
     "data": {
      "text/plain": [
       "[40, 23, 456, 809, 789, 70]"
      ]
     },
     "execution_count": 80,
     "metadata": {},
     "output_type": "execute_result"
    }
   ],
   "source": [
    "a5"
   ]
  },
  {
   "cell_type": "markdown",
   "metadata": {},
   "source": [
    "<code>randint()</code> func generates a random integer value"
   ]
  },
  {
   "cell_type": "code",
   "execution_count": 81,
   "metadata": {},
   "outputs": [],
   "source": [
    "from random import randint"
   ]
  },
  {
   "cell_type": "code",
   "execution_count": 82,
   "metadata": {},
   "outputs": [
    {
     "data": {
      "text/plain": [
       "3"
      ]
     },
     "execution_count": 82,
     "metadata": {},
     "output_type": "execute_result"
    }
   ],
   "source": [
    "randint(0,10)"
   ]
  },
  {
   "cell_type": "markdown",
   "metadata": {},
   "source": [
    "### <code>input</code> func to accept user input\n",
    "**NOTE:** the user-input is stored as String data type"
   ]
  },
  {
   "cell_type": "code",
   "execution_count": 26,
   "metadata": {},
   "outputs": [
    {
     "name": "stdout",
     "output_type": "stream",
     "text": [
      "33\n"
     ]
    }
   ],
   "source": [
    "entered_value=input('Enter a value')\n",
    "print(entered_value)"
   ]
  },
  {
   "cell_type": "code",
   "execution_count": 30,
   "metadata": {},
   "outputs": [
    {
     "data": {
      "text/plain": [
       "str"
      ]
     },
     "execution_count": 30,
     "metadata": {},
     "output_type": "execute_result"
    }
   ],
   "source": [
    "type(entered_value)"
   ]
  },
  {
   "cell_type": "markdown",
   "metadata": {},
   "source": [
    "So we might have to cast the user-input into a float/ int data type etc."
   ]
  },
  {
   "cell_type": "code",
   "execution_count": 33,
   "metadata": {},
   "outputs": [],
   "source": [
    "x=float(entered_value)"
   ]
  },
  {
   "cell_type": "code",
   "execution_count": 34,
   "metadata": {},
   "outputs": [
    {
     "data": {
      "text/plain": [
       "float"
      ]
     },
     "execution_count": 34,
     "metadata": {},
     "output_type": "execute_result"
    }
   ],
   "source": [
    "type(x)"
   ]
  },
  {
   "cell_type": "markdown",
   "metadata": {},
   "source": [
    "**A more concise method to achieve above result:**"
   ]
  },
  {
   "cell_type": "code",
   "execution_count": 37,
   "metadata": {},
   "outputs": [
    {
     "name": "stdout",
     "output_type": "stream",
     "text": [
      "234.56\n"
     ]
    }
   ],
   "source": [
    "user_input=float(input('ENTER VALUE:'))\n",
    "print(user_input)"
   ]
  },
  {
   "cell_type": "code",
   "execution_count": 38,
   "metadata": {},
   "outputs": [
    {
     "data": {
      "text/plain": [
       "float"
      ]
     },
     "execution_count": 38,
     "metadata": {},
     "output_type": "execute_result"
    }
   ],
   "source": [
    "type(user_input)"
   ]
  },
  {
   "cell_type": "markdown",
   "metadata": {},
   "source": [
    "___\n",
    "## List comprehensions\n",
    "List comprehensions are a concise way to create lists in Python using a single line of code. "
   ]
  },
  {
   "cell_type": "markdown",
   "metadata": {},
   "source": [
    "Oldschool method: start with an iterable like a string ; then declare an empty list & then use a <code>for</code> loop to append each char into the empty list declared earlier"
   ]
  },
  {
   "cell_type": "code",
   "execution_count": 39,
   "metadata": {},
   "outputs": [],
   "source": [
    "mychar='hello world'"
   ]
  },
  {
   "cell_type": "code",
   "execution_count": 43,
   "metadata": {},
   "outputs": [
    {
     "name": "stdout",
     "output_type": "stream",
     "text": [
      "['h', 'e', 'l', 'l', 'o', ' ', 'w', 'o', 'r', 'l', 'd']\n"
     ]
    }
   ],
   "source": [
    "mylist5=[]\n",
    "for letter in mychar:\n",
    "    mylist5.append(letter)\n",
    "print(mylist5)"
   ]
  },
  {
   "cell_type": "markdown",
   "metadata": {},
   "source": [
    "___\n",
    "**Now using List comprehension:** its the same logic used above , but flatened out in a **single line of code**\n",
    "\n",
    "<code>List=[value for value in *another iterable object(string/list)*]</code>"
   ]
  },
  {
   "cell_type": "code",
   "execution_count": 45,
   "metadata": {},
   "outputs": [
    {
     "name": "stdout",
     "output_type": "stream",
     "text": [
      "['h', 'e', 'l', 'l', 'o', ' ', 'w', 'o', 'r', 'l', 'd']\n"
     ]
    }
   ],
   "source": [
    "mylist5=[letter for letter in mychar]\n",
    "print(mylist5)"
   ]
  },
  {
   "cell_type": "code",
   "execution_count": 47,
   "metadata": {},
   "outputs": [
    {
     "name": "stdout",
     "output_type": "stream",
     "text": [
      "['j', 'o', 'h', 'n', ' ', 'w', 'i', 'c', 'k']\n"
     ]
    }
   ],
   "source": [
    "mylist6=[x for x in 'john wick']\n",
    "print(mylist6)"
   ]
  },
  {
   "cell_type": "markdown",
   "metadata": {},
   "source": [
    "**Practical example:** create a list of numbers from a particular range (say,11-20)"
   ]
  },
  {
   "cell_type": "code",
   "execution_count": 50,
   "metadata": {},
   "outputs": [
    {
     "name": "stdout",
     "output_type": "stream",
     "text": [
      "[11, 12, 13, 14, 15, 16, 17, 18, 19, 20]\n"
     ]
    }
   ],
   "source": [
    "mylist7=[num for num in range(11,21)]\n",
    "print(mylist7)"
   ]
  },
  {
   "cell_type": "markdown",
   "metadata": {},
   "source": [
    "More complex results can be achieved by performing required operations on the values...<br>\n",
    "**Practical example:** create a list of square of numbers from a particular range (say,11-20)"
   ]
  },
  {
   "cell_type": "code",
   "execution_count": 54,
   "metadata": {},
   "outputs": [
    {
     "name": "stdout",
     "output_type": "stream",
     "text": [
      "[121, 144, 169, 196, 225, 256, 289, 324, 361, 400]\n"
     ]
    }
   ],
   "source": [
    "mylist8=[num**2 for num in range(11,21)]\n",
    "print(mylist8)"
   ]
  },
  {
   "cell_type": "markdown",
   "metadata": {},
   "source": [
    "**Practical example:** create a list of only **even** numbers from a particular range (say,11-20)"
   ]
  },
  {
   "cell_type": "code",
   "execution_count": 56,
   "metadata": {},
   "outputs": [
    {
     "name": "stdout",
     "output_type": "stream",
     "text": [
      "[12, 14, 16, 18, 20]\n"
     ]
    }
   ],
   "source": [
    "mylist9=[num for num in range(11,21) if num%2==0]\n",
    "print(mylist9)"
   ]
  },
  {
   "cell_type": "code",
   "execution_count": 59,
   "metadata": {},
   "outputs": [
    {
     "name": "stdout",
     "output_type": "stream",
     "text": [
      "[11, 13, 15, 17, 19]\n"
     ]
    }
   ],
   "source": [
    "nlist=[num for num in range(11,21) if num%2!=0]\n",
    "print(nlist)"
   ]
  },
  {
   "cell_type": "markdown",
   "metadata": {},
   "source": [
    "**Practical example:** convert list of temperatures in **DegC to DegF**"
   ]
  },
  {
   "cell_type": "code",
   "execution_count": 76,
   "metadata": {},
   "outputs": [
    {
     "name": "stdout",
     "output_type": "stream",
     "text": [
      "[69.8, 75.2, 80.6, 68.0, 73.4]\n"
     ]
    }
   ],
   "source": [
    "degC=[21,24,27,20,23]\n",
    "\n",
    "degF=[round(((9/5)*val+32),2) for val in degC]\n",
    "print(degF)"
   ]
  },
  {
   "cell_type": "markdown",
   "metadata": {},
   "source": [
    "If same result was to be achieved in a <code>for</code> loop"
   ]
  },
  {
   "cell_type": "code",
   "execution_count": 66,
   "metadata": {},
   "outputs": [],
   "source": [
    "degC1=[21,24,27,20,23]"
   ]
  },
  {
   "cell_type": "code",
   "execution_count": 74,
   "metadata": {},
   "outputs": [
    {
     "name": "stdout",
     "output_type": "stream",
     "text": [
      "[69.8, 75.2, 80.6, 68.0, 73.4]\n"
     ]
    }
   ],
   "source": [
    "degF1=[]\n",
    "\n",
    "for val in degC1:\n",
    "    degF1.append(round((9/5)*val+32,2))\n",
    "print(degF1)"
   ]
  },
  {
   "cell_type": "markdown",
   "metadata": {},
   "source": [
    "### Further operations using List Comprehension\n",
    "Using <code>if-else</code> statements in LCs. Create a list of **only even numbers from 11-20** print 'Odd' in place of odd numbers.<br>\n",
    "The readability becomes a little tough because in <code>if-else</code> statement the order of statements is bit changed.<br>\n",
    "So, its important to ensure good readability in LC"
   ]
  },
  {
   "cell_type": "code",
   "execution_count": 78,
   "metadata": {},
   "outputs": [
    {
     "name": "stdout",
     "output_type": "stream",
     "text": [
      "['Odd', 12, 'Odd', 14, 'Odd', 16, 'Odd', 18, 'Odd', 20]\n"
     ]
    }
   ],
   "source": [
    "xlist = [x if x%2==0 else 'Odd' for x in range(11,21)]\n",
    "print(xlist)"
   ]
  },
  {
   "cell_type": "code",
   "execution_count": 85,
   "metadata": {},
   "outputs": [
    {
     "name": "stdout",
     "output_type": "stream",
     "text": [
      "Odd\n",
      "12\n",
      "Odd\n",
      "14\n",
      "Odd\n",
      "16\n",
      "Odd\n",
      "18\n",
      "Odd\n",
      "20\n"
     ]
    }
   ],
   "source": [
    "for index in xlist:\n",
    "    print(index)"
   ]
  },
  {
   "cell_type": "markdown",
   "metadata": {},
   "source": [
    "### Nested loops can also be implemented in LC"
   ]
  },
  {
   "cell_type": "markdown",
   "metadata": {},
   "source": [
    "Below is the longer method using <code>for</code> loop"
   ]
  },
  {
   "cell_type": "code",
   "execution_count": 86,
   "metadata": {},
   "outputs": [
    {
     "name": "stdout",
     "output_type": "stream",
     "text": [
      "[200, 400, 600, 300, 600, 900, 400, 800, 1200]\n"
     ]
    }
   ],
   "source": [
    "ml1=[]\n",
    "\n",
    "for x in [2,3,4]:\n",
    "    for y in [100,200,300]:\n",
    "        ml1.append(x*y)\n",
    "\n",
    "print(ml1)"
   ]
  },
  {
   "cell_type": "markdown",
   "metadata": {},
   "source": [
    "Each element of one list is multiplied by every element of the other list.<br>\n",
    "<br>\n",
    "**Now, Implementing above logic in LC (but do note that readibility is impacted)**"
   ]
  },
  {
   "cell_type": "code",
   "execution_count": 88,
   "metadata": {},
   "outputs": [
    {
     "name": "stdout",
     "output_type": "stream",
     "text": [
      "[200, 400, 600, 300, 600, 900, 400, 800, 1200]\n"
     ]
    }
   ],
   "source": [
    "ml5=[x*y for x in [2,3,4] for y in [100,200,300]]\n",
    "print(ml5)"
   ]
  },
  {
   "cell_type": "code",
   "execution_count": null,
   "metadata": {},
   "outputs": [],
   "source": []
  }
 ],
 "metadata": {
  "kernelspec": {
   "display_name": "base",
   "language": "python",
   "name": "python3"
  },
  "language_info": {
   "codemirror_mode": {
    "name": "ipython",
    "version": 3
   },
   "file_extension": ".py",
   "mimetype": "text/x-python",
   "name": "python",
   "nbconvert_exporter": "python",
   "pygments_lexer": "ipython3",
   "version": "3.11.5"
  }
 },
 "nbformat": 4,
 "nbformat_minor": 2
}
