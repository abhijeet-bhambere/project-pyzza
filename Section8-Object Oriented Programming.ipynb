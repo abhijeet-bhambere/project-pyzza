{
 "cells": [
  {
   "cell_type": "markdown",
   "metadata": {},
   "source": [
    "## Section -8: Object Oriented Programming\n",
    "___\n",
    "Use of Class & Attribute keywords:"
   ]
  },
  {
   "cell_type": "code",
   "execution_count": 135,
   "metadata": {},
   "outputs": [],
   "source": [
    "class Sample():\n",
    "    pass"
   ]
  },
  {
   "cell_type": "code",
   "execution_count": 136,
   "metadata": {},
   "outputs": [],
   "source": [
    "mysample = Sample()"
   ]
  },
  {
   "cell_type": "code",
   "execution_count": 137,
   "metadata": {},
   "outputs": [
    {
     "data": {
      "text/plain": [
       "__main__.Sample"
      ]
     },
     "execution_count": 137,
     "metadata": {},
     "output_type": "execute_result"
    }
   ],
   "source": [
    "type(mysample)"
   ]
  },
  {
   "cell_type": "code",
   "execution_count": 138,
   "metadata": {},
   "outputs": [],
   "source": [
    "class Cars():\n",
    "    def __init__(self,make,model,engine,torque,year):\n",
    "        \n",
    "        #attribute.attribute_name = argument\n",
    "        self.company = make\n",
    "        self.model = model\n",
    "        self.engine = engine\n",
    "        self.torque = torque\n",
    "        self.year = year"
   ]
  },
  {
   "cell_type": "code",
   "execution_count": 139,
   "metadata": {},
   "outputs": [],
   "source": [
    "mycar = Cars(make='Dodge',model=\"Charger\",engine='v8',torque=420,year=2006)"
   ]
  },
  {
   "cell_type": "code",
   "execution_count": 140,
   "metadata": {},
   "outputs": [
    {
     "data": {
      "text/plain": [
       "__main__.Cars"
      ]
     },
     "execution_count": 140,
     "metadata": {},
     "output_type": "execute_result"
    }
   ],
   "source": [
    "type(mycar)"
   ]
  },
  {
   "cell_type": "code",
   "execution_count": 141,
   "metadata": {},
   "outputs": [
    {
     "data": {
      "text/plain": [
       "'Dodge'"
      ]
     },
     "execution_count": 141,
     "metadata": {},
     "output_type": "execute_result"
    }
   ],
   "source": [
    "mycar.company"
   ]
  },
  {
   "cell_type": "markdown",
   "metadata": {},
   "source": [
    "___\n",
    "## Class Object Atrributes: \n",
    "These are the properties declared at Class-level. Applicable to **ALL** object instances created using such a Class"
   ]
  },
  {
   "cell_type": "code",
   "execution_count": 1,
   "metadata": {},
   "outputs": [],
   "source": [
    "class Newcars():\n",
    "    #Class Attribute -- applicable to entire class\n",
    "    mode = \"Land\"\n",
    "    \n",
    "    def __init__(self,make,model,year):\n",
    "        #Object Attribute\n",
    "        #attribute.attribute_name = argument\n",
    "        self.company = make\n",
    "        self.model = model\n",
    "        self.year = year"
   ]
  },
  {
   "cell_type": "markdown",
   "metadata": {},
   "source": [
    "YEAR:2006 CO:Dodge MODEL:Charger SRT-8 | HORSEPOWER:425 @ 6000 RPM | TORQUE:420 @ 4800 RPM<br>\n",
    "YEAR:1992 CO:Chevrolet MODEL:Camaro Z28 Coupe | HORSEPOWER:230 @ 4400 RPM | TORQUE:300 @ 3200 RPM<br>\n",
    "YEAR:1995 CO:Ford MODEL:Mustang GT | HORSEPOWER:215 @ 4200 RPM | TORQUE:285 @ 3400 RPM"
   ]
  },
  {
   "cell_type": "code",
   "execution_count": 2,
   "metadata": {},
   "outputs": [],
   "source": [
    "anewcar = Newcars(make=\"Chevrolet\",model=\"Camaro Z28 Coupe\",year=1992)"
   ]
  },
  {
   "cell_type": "code",
   "execution_count": 3,
   "metadata": {},
   "outputs": [
    {
     "name": "stdout",
     "output_type": "stream",
     "text": [
      "Model: Camaro Z28 Coupe\n",
      "Terrain: Land\n"
     ]
    }
   ],
   "source": [
    "print(f\"Model: {anewcar.model}\\nTerrain: {anewcar.mode}\")"
   ]
  },
  {
   "cell_type": "markdown",
   "metadata": {},
   "source": [
    "_Notice that <code>mode</code> (Terrain) actually a Class attribure that belongs to (New)Cars class_.<br><br>\n",
    "\n",
    "_It remains same for all objects instances created using the class Newcars._<br><br>\n",
    "\n",
    "Declaring <code>mode</code> at Class-level means that the attribute applies for all created object instances."
   ]
  },
  {
   "cell_type": "code",
   "execution_count": 4,
   "metadata": {},
   "outputs": [],
   "source": [
    "acar = Newcars(model=\"Mustang GT\",make=\"Ford\",year=1995)"
   ]
  },
  {
   "cell_type": "code",
   "execution_count": 5,
   "metadata": {},
   "outputs": [
    {
     "name": "stdout",
     "output_type": "stream",
     "text": [
      "Model:Mustang GT\n",
      "Mode:Land\n"
     ]
    }
   ],
   "source": [
    "print(f\"Model:{acar.model}\\nMode:{acar.mode}\")"
   ]
  },
  {
   "cell_type": "markdown",
   "metadata": {},
   "source": [
    "___\n",
    "## Class Object Methods:\n"
   ]
  },
  {
   "cell_type": "code",
   "execution_count": 6,
   "metadata": {},
   "outputs": [],
   "source": [
    "class Newcars():\n",
    "    #Class Attribute -- applicable to entire class\n",
    "    mode = \"Land\"\n",
    "    \n",
    "    def __init__(self,make,model,year):\n",
    "        #Object Attribute\n",
    "        #attribute.attribute_name = argument\n",
    "        self.company = make\n",
    "        self.model = model\n",
    "        self.year = year\n",
    "    \n",
    "    #Declaring Class object-Level Method\n",
    "    def start_engine(self):\n",
    "        print(f\"The {self.company} {self.model}'s Engine's started!\")"
   ]
  },
  {
   "cell_type": "code",
   "execution_count": 7,
   "metadata": {},
   "outputs": [],
   "source": [
    "acar = Newcars(model=\"Mustang GT\",make=\"Ford\",year=1995)"
   ]
  },
  {
   "cell_type": "code",
   "execution_count": 8,
   "metadata": {},
   "outputs": [
    {
     "name": "stdout",
     "output_type": "stream",
     "text": [
      "The Ford Mustang GT's Engine's started!\n"
     ]
    }
   ],
   "source": [
    "acar.start_engine()"
   ]
  },
  {
   "cell_type": "code",
   "execution_count": 9,
   "metadata": {},
   "outputs": [
    {
     "name": "stdout",
     "output_type": "stream",
     "text": [
      "The Ford Mustang GT's Engine's started!\n"
     ]
    }
   ],
   "source": [
    "acar.start_engine()"
   ]
  },
  {
   "cell_type": "markdown",
   "metadata": {},
   "source": [
    "___\n",
    "## Creating another (more sensible) Class:\n",
    "The class Circle"
   ]
  },
  {
   "cell_type": "code",
   "execution_count": 10,
   "metadata": {},
   "outputs": [],
   "source": [
    "class Circle():\n",
    "    #Class-level attributes\n",
    "    pi = 3.14\n",
    "    subject = \"Geometry\"\n",
    "    pi = 3.14\n",
    "\n",
    "    #Contructing expression\n",
    "    def __init__(self,radius=1):\n",
    "        self.radius = radius\n",
    "    \n",
    "    #Object methods:\n",
    "    def circumference(self):\n",
    "        calc = (2 * self.pi * self.radius)\n",
    "        print(f\"Circumference of circle with radius {self.radius}cm is {calc:.2f}cm\")\n",
    "        return(calc)\n",
    "    \n",
    "    def area(self):\n",
    "        calc1 = self.pi * (self.radius**2)\n",
    "        print(f\"Area of circle with radius {self.radius}cm is {calc1:.2f}cm\\u00b2\")\n",
    "        return(calc1)\n"
   ]
  },
  {
   "cell_type": "code",
   "execution_count": 11,
   "metadata": {},
   "outputs": [],
   "source": [
    "acircle = Circle(18)"
   ]
  },
  {
   "cell_type": "code",
   "execution_count": 12,
   "metadata": {},
   "outputs": [
    {
     "data": {
      "text/plain": [
       "18"
      ]
     },
     "execution_count": 12,
     "metadata": {},
     "output_type": "execute_result"
    }
   ],
   "source": [
    "acircle.radius"
   ]
  },
  {
   "cell_type": "code",
   "execution_count": 13,
   "metadata": {},
   "outputs": [
    {
     "name": "stdout",
     "output_type": "stream",
     "text": [
      "Circumference of circle with radius 18cm is 113.04cm\n"
     ]
    },
    {
     "data": {
      "text/plain": [
       "113.04"
      ]
     },
     "execution_count": 13,
     "metadata": {},
     "output_type": "execute_result"
    }
   ],
   "source": [
    "acircle.circumference()"
   ]
  },
  {
   "cell_type": "code",
   "execution_count": 14,
   "metadata": {},
   "outputs": [
    {
     "name": "stdout",
     "output_type": "stream",
     "text": [
      "Area of circle with radius 18cm is 1017.36cm²\n"
     ]
    }
   ],
   "source": [
    "a = acircle.area()"
   ]
  },
  {
   "cell_type": "code",
   "execution_count": 15,
   "metadata": {},
   "outputs": [
    {
     "data": {
      "text/plain": [
       "1017.36"
      ]
     },
     "execution_count": 15,
     "metadata": {},
     "output_type": "execute_result"
    }
   ],
   "source": [
    "a"
   ]
  },
  {
   "cell_type": "markdown",
   "metadata": {},
   "source": [
    "___\n",
    "_Presenting alternate way to define the Circle class:_<br>\n",
    "<br>\n",
    "Declaring 'area' & 'circumference' as in-built attributes (properties) of the object instance:"
   ]
  },
  {
   "cell_type": "code",
   "execution_count": 16,
   "metadata": {},
   "outputs": [],
   "source": [
    "class Circle_new():\n",
    "    #Class-level attributes\n",
    "    pi = 3.14\n",
    "    subject = \"Geometry\"\n",
    "\n",
    "    def __init__(self,radius):\n",
    "        #Defining 'area' & 'circumference' as object-level attributes\n",
    "        \n",
    "        self.radius = radius\n",
    "        self.area = round(Circle.pi * (self.radius**2),2)\n",
    "        self.cirmfnc = round(Circle.pi * (self.radius**2),2)\n"
   ]
  },
  {
   "cell_type": "code",
   "execution_count": 17,
   "metadata": {},
   "outputs": [],
   "source": [
    "b = Circle_new(11.1)"
   ]
  },
  {
   "cell_type": "code",
   "execution_count": 18,
   "metadata": {},
   "outputs": [
    {
     "data": {
      "text/plain": [
       "11.1"
      ]
     },
     "execution_count": 18,
     "metadata": {},
     "output_type": "execute_result"
    }
   ],
   "source": [
    "b.radius"
   ]
  },
  {
   "cell_type": "code",
   "execution_count": 19,
   "metadata": {},
   "outputs": [
    {
     "data": {
      "text/plain": [
       "386.88"
      ]
     },
     "execution_count": 19,
     "metadata": {},
     "output_type": "execute_result"
    }
   ],
   "source": [
    "b.area"
   ]
  },
  {
   "cell_type": "code",
   "execution_count": 20,
   "metadata": {},
   "outputs": [
    {
     "data": {
      "text/plain": [
       "386.88"
      ]
     },
     "execution_count": 20,
     "metadata": {},
     "output_type": "execute_result"
    }
   ],
   "source": [
    "b.cirmfnc"
   ]
  },
  {
   "cell_type": "markdown",
   "metadata": {},
   "source": [
    "___\n",
    "# Inheritance & Polymorphism\n",
    "___\n",
    "\n",
    "<mark>**Inheritance**</mark> allows you to create new classes (subclasses) that inherit properties and behaviors from existing classes (superclasses). This promotes code reusability and enables the creation of specialized objects.<br>\n",
    "<br>"
   ]
  },
  {
   "cell_type": "markdown",
   "metadata": {},
   "source": [
    "We'll be defining a base class 'Transport' under which all other modes/vehicles of transport will be inherited (like car,ship,train,motorbike etc.)"
   ]
  },
  {
   "cell_type": "code",
   "execution_count": 21,
   "metadata": {},
   "outputs": [],
   "source": [
    "#defining the Base Class\n",
    "class Transport():\n",
    "    \n",
    "    def __init__(self):\n",
    "        #self.make = make\n",
    "        #self.model = model\n",
    "        #self.year = year\n",
    "        #self.mode = mode\n",
    "        print(\"Class Transport created!\")\n",
    "    \n",
    "    #defining a method:\n",
    "    def engine_start(self):\n",
    "        print(\"3..2..1 Let's go!\")"
   ]
  },
  {
   "cell_type": "markdown",
   "metadata": {},
   "source": [
    "YEAR:2006 CO:Dodge MODEL:Charger SRT-8 | HORSEPOWER:425 @ 6000 RPM | TORQUE:420 @ 4800 RPM<br>\n",
    "YEAR:1992 CO:Chevrolet MODEL:Camaro Z28 Coupe | HORSEPOWER:230 @ 4400 RPM | TORQUE:300 @ 3200 RPM<br>\n",
    "YEAR:1995 CO:Ford MODEL:Mustang GT | HORSEPOWER:215 @ 4200 RPM | TORQUE:285 @ 3400 RPM"
   ]
  },
  {
   "cell_type": "markdown",
   "metadata": {},
   "source": [
    "_Now we'll create a few modes of transport sub-classes:_"
   ]
  },
  {
   "cell_type": "code",
   "execution_count": 22,
   "metadata": {},
   "outputs": [],
   "source": [
    "#Defining sub-class Car1\n",
    "class Car1(Transport):\n",
    "\n",
    "    def __init__(self, model,make):\n",
    "        Transport.__init__(self)\n",
    "        self.model = model\n",
    "        self.make = make\n",
    "        print(\"Sub-class Car1 created!\")\n",
    "    \n",
    "    def engine_start(self):\n",
    "        return \"Engine of the \" + self.model + \" by \" + self.make + \" started!\""
   ]
  },
  {
   "cell_type": "markdown",
   "metadata": {},
   "source": [
    "_Notice that the class method_ <code>engine_start</code> _can be accessed by the sub-classes as well_"
   ]
  },
  {
   "cell_type": "code",
   "execution_count": 23,
   "metadata": {},
   "outputs": [
    {
     "name": "stdout",
     "output_type": "stream",
     "text": [
      "Class Transport created!\n",
      "Sub-class Car1 created!\n"
     ]
    }
   ],
   "source": [
    "acar1 = Car1(model=\"Mustang GT\",make=\"Ford\")"
   ]
  },
  {
   "cell_type": "code",
   "execution_count": 24,
   "metadata": {},
   "outputs": [
    {
     "data": {
      "text/plain": [
       "'Engine of the Mustang GT by Ford started!'"
      ]
     },
     "execution_count": 24,
     "metadata": {},
     "output_type": "execute_result"
    }
   ],
   "source": [
    "acar1.engine_start()"
   ]
  },
  {
   "cell_type": "code",
   "execution_count": 27,
   "metadata": {},
   "outputs": [],
   "source": [
    "#Defining sub-class Train\n",
    "class Train(Transport):\n",
    "    \n",
    "    def __init__(self):\n",
    "        Transport.__init__(self)\n",
    "        print(\"Sub-class Train created\")\n"
   ]
  },
  {
   "cell_type": "code",
   "execution_count": 26,
   "metadata": {},
   "outputs": [
    {
     "name": "stdout",
     "output_type": "stream",
     "text": [
      "Class Transport created!\n",
      "Sub-class Train created\n",
      "3..2..1 Let's go!\n"
     ]
    }
   ],
   "source": [
    "atrain = Train()\n",
    "\n",
    "atrain.engine_start()"
   ]
  },
  {
   "cell_type": "markdown",
   "metadata": {},
   "source": [
    "___\n",
    "<mark>**Polymorphism**</mark> allows same method defined in a super-class to be called and defined again in sub-classes.<br> \n",
    "Its the ability of objects of different classes (or subclasses) to respond differently to the same method call <br>\n",
    "<br>\n",
    "_Declaring 2 sub-classes of the class Transport..._"
   ]
  },
  {
   "cell_type": "code",
   "execution_count": 41,
   "metadata": {},
   "outputs": [],
   "source": [
    "class Car2(Transport):\n",
    "    def __init__(self,make):\n",
    "        Transport.__init__(self)\n",
    "        self.make = make\n",
    "\n",
    "    def engine_start(self):\n",
    "        return self.make + \" races head!\" \n"
   ]
  },
  {
   "cell_type": "code",
   "execution_count": 42,
   "metadata": {},
   "outputs": [],
   "source": [
    "class Airplane(Transport):\n",
    "    def __init__(self,make):\n",
    "        Transport.__init__(self)\n",
    "        self.make = make\n",
    "\n",
    "    def engine_start(self):\n",
    "        return self.make + \" soars into the skies!\" "
   ]
  },
  {
   "cell_type": "code",
   "execution_count": 43,
   "metadata": {},
   "outputs": [
    {
     "name": "stdout",
     "output_type": "stream",
     "text": [
      "Class Transport created!\n",
      "Class Transport created!\n"
     ]
    }
   ],
   "source": [
    "ford = Car2(\"Ford\")\n",
    "boeing = Airplane(\"Boeing\")"
   ]
  },
  {
   "cell_type": "code",
   "execution_count": 44,
   "metadata": {},
   "outputs": [],
   "source": [
    "alist = [ford,boeing]"
   ]
  },
  {
   "cell_type": "code",
   "execution_count": 45,
   "metadata": {},
   "outputs": [
    {
     "name": "stdout",
     "output_type": "stream",
     "text": [
      "Ford races head!\n",
      "Boeing soars into the skies!\n"
     ]
    }
   ],
   "source": [
    "for each in alist:\n",
    "    result = each.engine_start()\n",
    "    print(result)"
   ]
  },
  {
   "cell_type": "markdown",
   "metadata": {},
   "source": [
    "_As seen from above sub-classes, the same <code>engine_start()</code> method is used with slight modifications depending on the transport._ <br>\n",
    "<br>\n",
    "This shows the concept of Polymorphism in Python - where same method was used in differnet variations based on the context of the sub-classes derived from the same super-class in Python"
   ]
  },
  {
   "cell_type": "markdown",
   "metadata": {},
   "source": [
    "**A practical usage of polymorphism:**<br>\n",
    "Calling the <code>engine_start()</code> method in another custom function <code>start()</code> when its applied to the objects created (ford & boeing):"
   ]
  },
  {
   "cell_type": "code",
   "execution_count": 46,
   "metadata": {},
   "outputs": [],
   "source": [
    "def start(vehicle):\n",
    "    print(vehicle.engine_start())"
   ]
  },
  {
   "cell_type": "code",
   "execution_count": 48,
   "metadata": {},
   "outputs": [
    {
     "name": "stdout",
     "output_type": "stream",
     "text": [
      "Ford races head!\n",
      "Boeing soars into the skies!\n"
     ]
    }
   ],
   "source": [
    "start(ford)\n",
    "start(boeing)"
   ]
  },
  {
   "cell_type": "markdown",
   "metadata": {},
   "source": [
    "___\n",
    "## Special Methods (Magic/Dunder Methods) for OOPM:\n",
    "These are  special methods in Python that have double underscores (__<code>method</code> __ ) at the beginning and end of their names.<br>\n",
    "These methods enables you to define behaviors for your custom classes, integrating seamlessly with Python's built-in features, such as arithmetic operations, comparisons, iteration etc."
   ]
  },
  {
   "cell_type": "markdown",
   "metadata": {},
   "source": [
    "_Defining a new class Book & adding in magic methods within the class to be used when creating object instances_"
   ]
  },
  {
   "cell_type": "code",
   "execution_count": 1,
   "metadata": {},
   "outputs": [],
   "source": [
    "class Book():\n",
    "    #Constructor expression for creating the class & defining object attributes\n",
    "    def __init__(self,name,author,pages):\n",
    "        self.name = name\n",
    "        self.author = author\n",
    "        self.pages = pages\n",
    "\n",
    "    #Using magic methods to be used with the clas Book \n",
    "    def __str__(self):\n",
    "        return f\"{self.name} by {self.author}\"\n",
    "    \n",
    "    def __len__(self):\n",
    "        return self.pages\n",
    "        "
   ]
  },
  {
   "cell_type": "code",
   "execution_count": 2,
   "metadata": {},
   "outputs": [],
   "source": [
    "b = Book(name=\"Project Pyzza\",author=\"AB\",pages=500)"
   ]
  },
  {
   "cell_type": "code",
   "execution_count": 5,
   "metadata": {},
   "outputs": [
    {
     "name": "stdout",
     "output_type": "stream",
     "text": [
      "AB\n",
      "Project Pyzza\n"
     ]
    }
   ],
   "source": [
    "print(b.author)\n",
    "print(b.name)"
   ]
  },
  {
   "cell_type": "code",
   "execution_count": 6,
   "metadata": {},
   "outputs": [
    {
     "data": {
      "text/plain": [
       "'Project Pyzza by AB'"
      ]
     },
     "execution_count": 6,
     "metadata": {},
     "output_type": "execute_result"
    }
   ],
   "source": [
    "str(b)"
   ]
  },
  {
   "cell_type": "code",
   "execution_count": 7,
   "metadata": {},
   "outputs": [],
   "source": [
    "b1 = Book(name=\"LOTR\",pages=1077,author=\"JRR Tolkien\")"
   ]
  },
  {
   "cell_type": "code",
   "execution_count": 8,
   "metadata": {},
   "outputs": [
    {
     "data": {
      "text/plain": [
       "1077"
      ]
     },
     "execution_count": 8,
     "metadata": {},
     "output_type": "execute_result"
    }
   ],
   "source": [
    "len(b1)"
   ]
  },
  {
   "cell_type": "code",
   "execution_count": 9,
   "metadata": {},
   "outputs": [
    {
     "data": {
      "text/plain": [
       "'LOTR by JRR Tolkien'"
      ]
     },
     "execution_count": 9,
     "metadata": {},
     "output_type": "execute_result"
    }
   ],
   "source": [
    "str(b1)"
   ]
  },
  {
   "cell_type": "code",
   "execution_count": null,
   "metadata": {},
   "outputs": [],
   "source": []
  },
  {
   "cell_type": "code",
   "execution_count": null,
   "metadata": {},
   "outputs": [],
   "source": []
  }
 ],
 "metadata": {
  "kernelspec": {
   "display_name": "base",
   "language": "python",
   "name": "python3"
  },
  "language_info": {
   "codemirror_mode": {
    "name": "ipython",
    "version": 3
   },
   "file_extension": ".py",
   "mimetype": "text/x-python",
   "name": "python",
   "nbconvert_exporter": "python",
   "pygments_lexer": "ipython3",
   "version": "3.11.5"
  }
 },
 "nbformat": 4,
 "nbformat_minor": 2
}
