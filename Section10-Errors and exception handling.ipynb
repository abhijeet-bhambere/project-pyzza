{
 "cells": [
  {
   "cell_type": "markdown",
   "metadata": {},
   "source": [
    "# Errors & Exceptions Handling\n",
    "___\n",
    "_try... except... finally_\n",
    "\n",
    "<code>try:</code> attempt a block of code<br>\n",
    "<code>except:</code> if above code logic fails, do this<br>\n",
    "<code>finally</code>: (optional clause) do this after above two clauses have finished executing\n",
    "___\n",
    "We'll create a simple adition func that takes 2 no.s as argument. One no. will be added as int. while other will be added as a str(using input)<br>\n",
    "The except clause will handle the exceptions for the type mismatch scenario "
   ]
  },
  {
   "cell_type": "markdown",
   "metadata": {},
   "source": [
    "_1.We first define an <code>additn</code> func that will take in two values as input arguments_"
   ]
  },
  {
   "cell_type": "code",
   "execution_count": 16,
   "metadata": {},
   "outputs": [],
   "source": [
    "def additn(num1,num2):\n",
    "    return (num1 + num2)"
   ]
  },
  {
   "cell_type": "markdown",
   "metadata": {},
   "source": [
    "_2.We then declare the variables used for the arguemtns in <code>additn</code> & control the two inputs<br>\n",
    "<br>\n",
    "Modifying these 2 values will affect the _"
   ]
  },
  {
   "cell_type": "code",
   "execution_count": 61,
   "metadata": {},
   "outputs": [],
   "source": [
    "num1 = 10\n",
    "num2 = '8'"
   ]
  },
  {
   "cell_type": "markdown",
   "metadata": {},
   "source": [
    "_3.Now based on the data type of the input arguments, we attempt to run <code>additn</code> with the <code>try</code> clause.<br>\n",
    "<br>\n",
    "Any error (e.g. mismatch in the data types of the passed arguments) is treated as an exception using <code>except</code> clause <br>\n",
    "<br>\n",
    "After the exception in handled , the control flow moves to the next statement/clause (in this case to print the \"final output\" line)_"
   ]
  },
  {
   "cell_type": "code",
   "execution_count": 64,
   "metadata": {},
   "outputs": [
    {
     "name": "stdout",
     "output_type": "stream",
     "text": [
      "Error! Please check for type mismatch\n",
      "the final output\n"
     ]
    }
   ],
   "source": [
    "try:\n",
    "    output = additn(num1,num2)\n",
    "    print(output)\n",
    "\n",
    "except TypeError:\n",
    "    print(\"Error! Please check for type mismatch\")\n",
    "    \n",
    "print(\"the final output\")"
   ]
  },
  {
   "cell_type": "code",
   "execution_count": 63,
   "metadata": {},
   "outputs": [
    {
     "data": {
      "text/plain": [
       "18"
      ]
     },
     "execution_count": 63,
     "metadata": {},
     "output_type": "execute_result"
    }
   ],
   "source": [
    "output"
   ]
  },
  {
   "cell_type": "code",
   "execution_count": 57,
   "metadata": {},
   "outputs": [
    {
     "name": "stdout",
     "output_type": "stream",
     "text": [
      "The last run statement\n"
     ]
    }
   ],
   "source": [
    "try:\n",
    "    f=open(\"section10Test.txt\",'w')\n",
    "    f.write(\"THE sentence\")\n",
    "\n",
    "except TypeError:\n",
    "    print(\"Its a typeError!\")\n",
    "except OSError:\n",
    "    print(\"Its an OSError!\")\n",
    "\n",
    "finally:\n",
    "    print(\"The last run statement\")\n"
   ]
  },
  {
   "cell_type": "code",
   "execution_count": 68,
   "metadata": {},
   "outputs": [],
   "source": [
    "def ask_for_int():\n",
    "    try:\n",
    "        result = int(input(\"Enter a number:\"))\n",
    "        return result\n",
    "    except:\n",
    "        print(\"Oops! wrong input\")\n",
    "    finally:\n",
    "        print(\"End Of Func\")\n"
   ]
  },
  {
   "cell_type": "code",
   "execution_count": 69,
   "metadata": {},
   "outputs": [
    {
     "name": "stdout",
     "output_type": "stream",
     "text": [
      "End Of Func\n"
     ]
    },
    {
     "data": {
      "text/plain": [
       "3"
      ]
     },
     "execution_count": 69,
     "metadata": {},
     "output_type": "execute_result"
    }
   ],
   "source": [
    "ask_for_int()"
   ]
  },
  {
   "cell_type": "code",
   "execution_count": 67,
   "metadata": {},
   "outputs": [
    {
     "name": "stdout",
     "output_type": "stream",
     "text": [
      "Oops! wrong input\n",
      "End Of Func\n"
     ]
    }
   ],
   "source": [
    "ask_for_int()"
   ]
  },
  {
   "cell_type": "markdown",
   "metadata": {},
   "source": [
    "_Modifying above func to iterate until user provides correct input:_"
   ]
  },
  {
   "cell_type": "code",
   "execution_count": 86,
   "metadata": {},
   "outputs": [],
   "source": [
    "def ask_for_int1():\n",
    "    while True:\n",
    "        try:\n",
    "            result = int(input(\"Enter a number:\"))\n",
    "        except ValueError:\n",
    "            print(\"Oops! wrong input\")\n",
    "            continue  # Repeats the loop \n",
    "        else:\n",
    "            print(\"Correct input\")\n",
    "            break  # Exit the loop when condition matches\n",
    "        finally:\n",
    "            print(\"End Of Func  \")"
   ]
  },
  {
   "cell_type": "code",
   "execution_count": 87,
   "metadata": {},
   "outputs": [
    {
     "name": "stdout",
     "output_type": "stream",
     "text": [
      "Oops! wrong input\n",
      "End Of Func  \n",
      "Correct input\n",
      "End Of Func  \n"
     ]
    }
   ],
   "source": [
    "ask_for_int1()"
   ]
  },
  {
   "cell_type": "code",
   "execution_count": null,
   "metadata": {},
   "outputs": [],
   "source": []
  }
 ],
 "metadata": {
  "kernelspec": {
   "display_name": ".venv",
   "language": "python",
   "name": "python3"
  },
  "language_info": {
   "codemirror_mode": {
    "name": "ipython",
    "version": 3
   },
   "file_extension": ".py",
   "mimetype": "text/x-python",
   "name": "python",
   "nbconvert_exporter": "python",
   "pygments_lexer": "ipython3",
   "version": "3.11.5"
  }
 },
 "nbformat": 4,
 "nbformat_minor": 2
}
