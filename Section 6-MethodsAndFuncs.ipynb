{
 "cells": [
  {
   "cell_type": "markdown",
   "metadata": {},
   "source": [
    "## Methods\n",
    "Methods are funcs associated with objects. They're defined within the scope of a class and are used to perform operations on instances of that class or on the class itself.<br>\n",
    "Methods are a fundamental concept in object-oriented programming (OOP)& play a central role in defining the behavior of objects.\n",
    "___\n",
    "Revisiting some common methods related to lists....."
   ]
  },
  {
   "cell_type": "code",
   "execution_count": 2,
   "metadata": {},
   "outputs": [],
   "source": [
    "mylist=[1,2,3,4]"
   ]
  },
  {
   "cell_type": "code",
   "execution_count": 3,
   "metadata": {},
   "outputs": [
    {
     "data": {
      "text/plain": [
       "4"
      ]
     },
     "execution_count": 3,
     "metadata": {},
     "output_type": "execute_result"
    }
   ],
   "source": [
    "#removes value from mentioned index\n",
    "mylist.pop(-1)"
   ]
  },
  {
   "cell_type": "code",
   "execution_count": 4,
   "metadata": {},
   "outputs": [
    {
     "data": {
      "text/plain": [
       "[1, 2, 3]"
      ]
     },
     "execution_count": 4,
     "metadata": {},
     "output_type": "execute_result"
    }
   ],
   "source": [
    "mylist"
   ]
  },
  {
   "cell_type": "code",
   "execution_count": 5,
   "metadata": {},
   "outputs": [],
   "source": [
    "#adds mentioned value to the end of the list\n",
    "mylist.append(5)"
   ]
  },
  {
   "cell_type": "code",
   "execution_count": 6,
   "metadata": {},
   "outputs": [
    {
     "data": {
      "text/plain": [
       "[1, 2, 3, 5]"
      ]
     },
     "execution_count": 6,
     "metadata": {},
     "output_type": "execute_result"
    }
   ],
   "source": [
    "mylist"
   ]
  },
  {
   "cell_type": "code",
   "execution_count": 8,
   "metadata": {},
   "outputs": [
    {
     "name": "stdout",
     "output_type": "stream",
     "text": [
      "[1, 2, 4, 5]\n"
     ]
    }
   ],
   "source": [
    "#replaces value at mentioned[index] with the mentioned value\n",
    "mylist[2]=4\n",
    "print(mylist)"
   ]
  },
  {
   "cell_type": "markdown",
   "metadata": {},
   "source": [
    "How to view the help content of a function:"
   ]
  },
  {
   "cell_type": "code",
   "execution_count": 8,
   "metadata": {},
   "outputs": [
    {
     "name": "stdout",
     "output_type": "stream",
     "text": [
      "Help on built-in function insert:\n",
      "\n",
      "insert(index, object, /) method of builtins.list instance\n",
      "    Insert object before index.\n",
      "\n"
     ]
    }
   ],
   "source": [
    "help(mylist.insert)"
   ]
  },
  {
   "cell_type": "code",
   "execution_count": 11,
   "metadata": {},
   "outputs": [
    {
     "name": "stdout",
     "output_type": "stream",
     "text": [
      "Help on method_descriptor:\n",
      "\n",
      "append(self, object, /)\n",
      "    Append object to the end of the list.\n",
      "\n"
     ]
    }
   ],
   "source": [
    "help(list.append)"
   ]
  },
  {
   "cell_type": "markdown",
   "metadata": {},
   "source": [
    "________\n",
    "### >>Refer the [Python official docs here](https://docs.python.org/3 \"Link to docs.python.org\")\n"
   ]
  },
  {
   "cell_type": "markdown",
   "metadata": {},
   "source": [
    "___\n",
    "## Functions\n",
    "A function is a block of reusable code that performs a specific task. Functions can be defined at any point in the code & can be called multiple times from different parts of the program.<br>\n",
    "They provide a way to encapsulate functionality, promote code reuse, and improve code organization and readability."
   ]
  },
  {
   "cell_type": "code",
   "execution_count": 9,
   "metadata": {},
   "outputs": [],
   "source": [
    "def func_greet_user(name):\n",
    "    '''enter user name'''   #Docstring to explain the function\n",
    "    print(\"Hey \" + name + \"! wassup\")"
   ]
  },
  {
   "cell_type": "code",
   "execution_count": 20,
   "metadata": {},
   "outputs": [
    {
     "name": "stdout",
     "output_type": "stream",
     "text": [
      "Hey Abhi! wassup\n"
     ]
    }
   ],
   "source": [
    "func_greet_user(\"Abhi\")"
   ]
  },
  {
   "cell_type": "code",
   "execution_count": 10,
   "metadata": {},
   "outputs": [],
   "source": [
    "def fnc_say_hello(name='Default name'):\n",
    "    '''Enter user name'''\n",
    "    print(f'Hi {name}!, how are you?')"
   ]
  },
  {
   "cell_type": "code",
   "execution_count": 12,
   "metadata": {},
   "outputs": [
    {
     "name": "stdout",
     "output_type": "stream",
     "text": [
      "Hi Abhi!, how are you?\n"
     ]
    }
   ],
   "source": [
    "fnc_say_hello('Abhi')"
   ]
  },
  {
   "cell_type": "markdown",
   "metadata": {},
   "source": [
    "Use of <code>return</code> function: "
   ]
  },
  {
   "cell_type": "code",
   "execution_count": 31,
   "metadata": {},
   "outputs": [],
   "source": [
    "def add_num(a,b):\n",
    "    return a + b"
   ]
  },
  {
   "cell_type": "code",
   "execution_count": 32,
   "metadata": {},
   "outputs": [
    {
     "data": {
      "text/plain": [
       "3"
      ]
     },
     "execution_count": 32,
     "metadata": {},
     "output_type": "execute_result"
    }
   ],
   "source": [
    "add_num(1,2)"
   ]
  },
  {
   "cell_type": "markdown",
   "metadata": {},
   "source": [
    "While accepting user inputs in the func's arguments, it is important to ensure the data types of the input values are correct; else the intended logic of the func could run incorrectly or not run at all."
   ]
  },
  {
   "cell_type": "markdown",
   "metadata": {},
   "source": [
    "_____\n",
    "Writing a few funcs for practice:<br>\n",
    "A func that returns area & circumference"
   ]
  },
  {
   "cell_type": "code",
   "execution_count": 21,
   "metadata": {},
   "outputs": [],
   "source": [
    "def fnc_circle(radius):\n",
    "    '''Enter radius of circle'''\n",
    "    rad=float(radius)\n",
    "    area= 3.14 * (rad**2)\n",
    "    circumfrnc= (2 * 3.14 * rad).__round__(2)\n",
    "\n",
    "    print(f'Area of a circle with a {rad:.2f}cm radius is {area} cm\\u00b2 \\nAnd its circumference is {circumfrnc:.2f} cm')\n",
    "    \n",
    "\n",
    "    return {\"r_area\":area,\"r_circumfrnc\":circumfrnc}\n"
   ]
  },
  {
   "cell_type": "code",
   "execution_count": 22,
   "metadata": {},
   "outputs": [
    {
     "name": "stdout",
     "output_type": "stream",
     "text": [
      "Area of a circle with a 6.00cm radius is 113.04 cm² \n",
      "And its circumference is 37.68 cm\n"
     ]
    },
    {
     "data": {
      "text/plain": [
       "{'r_area': 113.04, 'r_circumfrnc': 37.68}"
      ]
     },
     "execution_count": 22,
     "metadata": {},
     "output_type": "execute_result"
    }
   ],
   "source": [
    "fnc_circle(6)"
   ]
  },
  {
   "cell_type": "code",
   "execution_count": 23,
   "metadata": {},
   "outputs": [
    {
     "name": "stdout",
     "output_type": "stream",
     "text": [
      "Area of a circle with a 2.80cm radius is 24.6176 cm² \n",
      "And its circumference is 17.58 cm\n"
     ]
    },
    {
     "data": {
      "text/plain": [
       "{'r_area': 24.6176, 'r_circumfrnc': 17.58}"
      ]
     },
     "execution_count": 23,
     "metadata": {},
     "output_type": "execute_result"
    }
   ],
   "source": [
    "fnc_circle(2.8)"
   ]
  },
  {
   "cell_type": "markdown",
   "metadata": {},
   "source": [
    "A func that checks whether entered number is odd or even"
   ]
  },
  {
   "cell_type": "code",
   "execution_count": 25,
   "metadata": {},
   "outputs": [],
   "source": [
    "def check_oddeven(val):\n",
    "    '''Enter number'''\n",
    "    if val%2==0:\n",
    "        print(f'{val} is an Even number!')\n",
    "    else:\n",
    "        print(f'{val} is an Odd number')"
   ]
  },
  {
   "cell_type": "code",
   "execution_count": 27,
   "metadata": {},
   "outputs": [
    {
     "name": "stdout",
     "output_type": "stream",
     "text": [
      "18 is an Even number!\n"
     ]
    }
   ],
   "source": [
    "check_oddeven(18)"
   ]
  },
  {
   "cell_type": "markdown",
   "metadata": {},
   "source": [
    "___\n",
    "### Logic with python funcs:"
   ]
  },
  {
   "cell_type": "markdown",
   "metadata": {},
   "source": [
    "return **true** if any value in a list is an even no."
   ]
  },
  {
   "cell_type": "code",
   "execution_count": 29,
   "metadata": {},
   "outputs": [],
   "source": [
    "def check_oddeven_list(num_list):\n",
    "    for num in num_list:\n",
    "        if num%2==0:\n",
    "            return True     #Break out of the for loop & display True \n",
    "        else:\n",
    "            pass            #if none of the values are even, do nothing"
   ]
  },
  {
   "cell_type": "code",
   "execution_count": 31,
   "metadata": {},
   "outputs": [
    {
     "data": {
      "text/plain": [
       "True"
      ]
     },
     "execution_count": 31,
     "metadata": {},
     "output_type": "execute_result"
    }
   ],
   "source": [
    "check_oddeven_list([1,3,3,4])"
   ]
  },
  {
   "cell_type": "code",
   "execution_count": 52,
   "metadata": {},
   "outputs": [],
   "source": [
    "check_oddeven_list([1,3,5,7])"
   ]
  },
  {
   "cell_type": "markdown",
   "metadata": {},
   "source": [
    "return **true** if any value in a list is an even no. and **false** if none of the values were even"
   ]
  },
  {
   "cell_type": "code",
   "execution_count": 53,
   "metadata": {},
   "outputs": [],
   "source": [
    "def check_oddeven_list(num_list):\n",
    "    for num in num_list:\n",
    "        if num%2==0:\n",
    "            return True     #Break out of the for loop & display True if any val is Even\n",
    "        else:\n",
    "            pass            \n",
    "    return False            #Return False if none of the values are Even. "
   ]
  },
  {
   "cell_type": "code",
   "execution_count": 54,
   "metadata": {},
   "outputs": [
    {
     "data": {
      "text/plain": [
       "False"
      ]
     },
     "execution_count": 54,
     "metadata": {},
     "output_type": "execute_result"
    }
   ],
   "source": [
    "check_oddeven_list([1,3,5,7])"
   ]
  },
  {
   "cell_type": "markdown",
   "metadata": {},
   "source": [
    "Now modifying above code to actually return a list of all the even numbers from the list:"
   ]
  },
  {
   "cell_type": "code",
   "execution_count": 34,
   "metadata": {},
   "outputs": [],
   "source": [
    "def oddeven_list(num_list):\n",
    "    '''Enter list values in [ ]'''\n",
    "    even_numlist=[]\n",
    "\n",
    "    for num in num_list:\n",
    "        if num%2==0:\n",
    "            even_numlist.append(num)            \n",
    "    else:\n",
    "        pass            #Return False if none of the values are Even. \n",
    "\n",
    "    return even_numlist"
   ]
  },
  {
   "cell_type": "code",
   "execution_count": 35,
   "metadata": {},
   "outputs": [
    {
     "data": {
      "text/plain": [
       "[2, 4, 6, 8]"
      ]
     },
     "execution_count": 35,
     "metadata": {},
     "output_type": "execute_result"
    }
   ],
   "source": [
    "oddeven_list([1,2,3,4,5,6,7,8])"
   ]
  },
  {
   "cell_type": "markdown",
   "metadata": {},
   "source": [
    "___\n",
    "### Unpacking Tuples with funcs"
   ]
  },
  {
   "cell_type": "markdown",
   "metadata": {},
   "source": [
    "Declaring a tuple with ticker name & the respective share price"
   ]
  },
  {
   "cell_type": "code",
   "execution_count": 36,
   "metadata": {},
   "outputs": [],
   "source": [
    "stock_price= [('APPL',200),('MSFT',400),('GOOG',500),('AMZN',300)]"
   ]
  },
  {
   "cell_type": "code",
   "execution_count": 39,
   "metadata": {},
   "outputs": [
    {
     "name": "stdout",
     "output_type": "stream",
     "text": [
      "APPL\n",
      "MSFT\n",
      "GOOG\n",
      "AMZN\n"
     ]
    }
   ],
   "source": [
    "for ticker,price in stock_price:\n",
    "    print(ticker)"
   ]
  },
  {
   "cell_type": "markdown",
   "metadata": {},
   "source": [
    "Moving onto more complicated use cases, return emp of the month based on emp with maximum billed hrs "
   ]
  },
  {
   "cell_type": "code",
   "execution_count": 41,
   "metadata": {},
   "outputs": [],
   "source": [
    "work_hrs=[('Abby',20),('Billy',30),('Cassie',35),('Bob',45),('Jim',50)]"
   ]
  },
  {
   "cell_type": "code",
   "execution_count": 44,
   "metadata": {},
   "outputs": [
    {
     "data": {
      "text/plain": [
       "[('Abby', 20), ('Billy', 30), ('Cassie', 35), ('Bob', 45), ('Jim', 50)]"
      ]
     },
     "execution_count": 44,
     "metadata": {},
     "output_type": "execute_result"
    }
   ],
   "source": [
    "work_hrs"
   ]
  },
  {
   "cell_type": "markdown",
   "metadata": {},
   "source": [
    "Depending on output desired, we can also unpack the resultant tuple "
   ]
  },
  {
   "cell_type": "markdown",
   "metadata": {},
   "source": [
    "Now we create a func that identifies the emp with **most hours billed** & returns the name alongwith the hours"
   ]
  },
  {
   "cell_type": "code",
   "execution_count": 51,
   "metadata": {},
   "outputs": [],
   "source": [
    "work_hrs=[('Abby',20),('Billy',30),('Cassie',35),('Bob',45),('Jim',50),('Peralta',65)]"
   ]
  },
  {
   "cell_type": "code",
   "execution_count": 52,
   "metadata": {},
   "outputs": [],
   "source": [
    "##Intent is to return a tuple like (empName,MaxHrs)\n",
    "##So first we declare the variables that will make up empty tuple\n",
    "def emp_ofmonth(work_hrs):\n",
    "    max_hrs=0\n",
    "    emp_name=''\n",
    "    \n",
    "    #Logic for max hrs\n",
    "    for employee,hours in work_hrs:\n",
    "        if hours>max_hrs:\n",
    "            max_hrs=hours\n",
    "            emp_name=employee\n",
    "        else:\n",
    "            pass\n",
    "            \n",
    "    #print(f'So {emp_name} is the emp of the Month with {max_hrs}hrs billed')\n",
    "    return (emp_name,max_hrs)"
   ]
  },
  {
   "cell_type": "markdown",
   "metadata": {},
   "source": [
    "The result is a tuple showing the employee of the month"
   ]
  },
  {
   "cell_type": "code",
   "execution_count": 53,
   "metadata": {},
   "outputs": [
    {
     "data": {
      "text/plain": [
       "('Peralta', 65)"
      ]
     },
     "execution_count": 53,
     "metadata": {},
     "output_type": "execute_result"
    }
   ],
   "source": [
    "emp_ofmonth(work_hrs)"
   ]
  },
  {
   "cell_type": "markdown",
   "metadata": {},
   "source": [
    "<mark>The results of the above tuple can be unpacked following way:</mark>"
   ]
  },
  {
   "cell_type": "code",
   "execution_count": 57,
   "metadata": {},
   "outputs": [
    {
     "name": "stdout",
     "output_type": "stream",
     "text": [
      "Peralta : 65\n"
     ]
    }
   ],
   "source": [
    "name,billed_hours=emp_ofmonth(work_hrs)\n",
    "print (name,':',billed_hours)"
   ]
  },
  {
   "cell_type": "code",
   "execution_count": 58,
   "metadata": {},
   "outputs": [
    {
     "data": {
      "text/plain": [
       "'Peralta'"
      ]
     },
     "execution_count": 58,
     "metadata": {},
     "output_type": "execute_result"
    }
   ],
   "source": [
    "name"
   ]
  },
  {
   "cell_type": "code",
   "execution_count": 21,
   "metadata": {},
   "outputs": [
    {
     "data": {
      "text/plain": [
       "50"
      ]
     },
     "execution_count": 21,
     "metadata": {},
     "output_type": "execute_result"
    }
   ],
   "source": [
    "billed_hours"
   ]
  },
  {
   "cell_type": "markdown",
   "metadata": {},
   "source": [
    "___\n",
    "## Interactions between Python funcs"
   ]
  },
  {
   "cell_type": "markdown",
   "metadata": {},
   "source": [
    "### <code>shuffle()</code> func:\n",
    "Shuffles the order of elements of any mutable sequences (e.g. lists).<br>\n",
    "**NOTE:** that <code>shuffle</code> **modifies the original list in-place**, randomly rearranging its elements."
   ]
  },
  {
   "cell_type": "markdown",
   "metadata": {},
   "source": [
    "Recreating a 3 cup monte game using the random module"
   ]
  },
  {
   "cell_type": "code",
   "execution_count": 61,
   "metadata": {},
   "outputs": [],
   "source": [
    "eg=[1,2,3,4,5,6,7]"
   ]
  },
  {
   "cell_type": "code",
   "execution_count": 62,
   "metadata": {},
   "outputs": [],
   "source": [
    "from random import shuffle"
   ]
  },
  {
   "cell_type": "code",
   "execution_count": 63,
   "metadata": {},
   "outputs": [],
   "source": [
    "result=shuffle(eg)"
   ]
  },
  {
   "cell_type": "code",
   "execution_count": 64,
   "metadata": {},
   "outputs": [
    {
     "data": {
      "text/plain": [
       "[2, 3, 6, 4, 7, 5, 1]"
      ]
     },
     "execution_count": 64,
     "metadata": {},
     "output_type": "execute_result"
    }
   ],
   "source": [
    "eg"
   ]
  },
  {
   "cell_type": "markdown",
   "metadata": {},
   "source": [
    "Since it rearranges the list in-place but we want to _see_ the result, we need to call the list every time.<br>\n",
    "This can be fixed if we write a func that returns the func that returns the shuffled list result"
   ]
  },
  {
   "cell_type": "code",
   "execution_count": 67,
   "metadata": {},
   "outputs": [],
   "source": [
    "#Take a lst , shuffle its elements & return the result\n",
    "def shuffle_list(eg):\n",
    "    '''Enter a list'''\n",
    "    shuffle(eg)\n",
    "    return eg"
   ]
  },
  {
   "cell_type": "code",
   "execution_count": 49,
   "metadata": {},
   "outputs": [
    {
     "data": {
      "text/plain": [
       "[7, 6, 3, 4, 5, 2, 1]"
      ]
     },
     "execution_count": 49,
     "metadata": {},
     "output_type": "execute_result"
    }
   ],
   "source": [
    "shuffle_list(eg)"
   ]
  },
  {
   "cell_type": "markdown",
   "metadata": {},
   "source": [
    "Now coming back to our game.... **The 3 cup monte** is a randomized game containing a ball that is shuffled among 3 glasses/cups that player then has to pick one of the cups. Player wins if the selected cup contains the ball.<br>\n",
    "We'll be replicating the game in form of a list that contains 2 blanks & one 'O' for the ball. Shuffle the list using the <code>shuffle</code> func.<br>\n",
    "The player will _guess_ which of the cups contains the ball ('O') by entering an **index** value. The value of this index will be returned. Player wins if value 'O' is returned "
   ]
  },
  {
   "cell_type": "code",
   "execution_count": 65,
   "metadata": {},
   "outputs": [],
   "source": [
    "the_game_list=[' ',' ','O']"
   ]
  },
  {
   "cell_type": "markdown",
   "metadata": {},
   "source": [
    "testing the <code>shuffle_list()</code> defined earlier to shuffle <code>the_game_list</code>...."
   ]
  },
  {
   "cell_type": "code",
   "execution_count": 69,
   "metadata": {},
   "outputs": [
    {
     "data": {
      "text/plain": [
       "[' ', 'O', ' ']"
      ]
     },
     "execution_count": 69,
     "metadata": {},
     "output_type": "execute_result"
    }
   ],
   "source": [
    "shuffle_list(the_game_list)"
   ]
  },
  {
   "cell_type": "code",
   "execution_count": 70,
   "metadata": {},
   "outputs": [],
   "source": [
    "def player_guess():\n",
    "    guess=''                            #declaring blank user-input to start with\n",
    "    while guess not in ['0','1','2']:   #note the index values are defined as Str since input will take string only\n",
    "        guess=input(\"Pick a number: 0, 1 or 2\")\n",
    "\n",
    "    return int(guess)"
   ]
  },
  {
   "cell_type": "code",
   "execution_count": 72,
   "metadata": {},
   "outputs": [
    {
     "data": {
      "text/plain": [
       "2"
      ]
     },
     "execution_count": 72,
     "metadata": {},
     "output_type": "execute_result"
    }
   ],
   "source": [
    "player_guess()"
   ]
  },
  {
   "cell_type": "markdown",
   "metadata": {},
   "source": [
    "So our func to accept index positions aka _the guess_ is also done.<br>\n",
    "Now moving onto the last func that will link the <code>player_guess</code> to shuffled <code>the_game_list</code>"
   ]
  },
  {
   "cell_type": "code",
   "execution_count": 75,
   "metadata": {},
   "outputs": [],
   "source": [
    "##Notice we call the above 2 funcs in the definitions\n",
    "def check_guess(the_game_list,player_guess): \n",
    "    #Check if the user-input guess matches ball position\n",
    "    if the_game_list[player_guess]=='O':\n",
    "        print(f'Correct guess! :D')\n",
    "        print(the_game_list)\n",
    "    else:\n",
    "        print('Wrong guess!,better luck next time :)')\n",
    "        print(the_game_list)"
   ]
  },
  {
   "cell_type": "markdown",
   "metadata": {},
   "source": [
    "Now we setup some scripts to automate calling the funcs "
   ]
  },
  {
   "cell_type": "code",
   "execution_count": 76,
   "metadata": {},
   "outputs": [
    {
     "name": "stdout",
     "output_type": "stream",
     "text": [
      "Wrong guess!,better luck next time :)\n",
      "[' ', ' ', 'O']\n"
     ]
    }
   ],
   "source": [
    "#Initial list\n",
    "main_list=[' ',' ','O']\n",
    "\n",
    "#Shuffle list\n",
    "shffld_list=shuffle_list(main_list)\n",
    "\n",
    "#User guess the index\n",
    "user_guess=player_guess()\n",
    "\n",
    "#Check index with the shuffled list\n",
    "check_guess(shffld_list,user_guess)"
   ]
  },
  {
   "cell_type": "markdown",
   "metadata": {},
   "source": [
    "Adding more details to above func:"
   ]
  },
  {
   "cell_type": "code",
   "execution_count": 77,
   "metadata": {},
   "outputs": [],
   "source": [
    "##Notice we call the above 2 funcs in the definitions\n",
    "def check_guess1(the_game_list,player_guess): \n",
    "    if the_game_list[player_guess]=='O':\n",
    "        position=int(player_guess)\n",
    "        print(f'Correct guess! :D Ball was in slot {position}')\n",
    "        print(the_game_list)\n",
    "    else:\n",
    "        print('Wrong guess!,better luck next time :)')\n",
    "        print(the_game_list)"
   ]
  },
  {
   "cell_type": "markdown",
   "metadata": {},
   "source": [
    "Revised func with added details:"
   ]
  },
  {
   "cell_type": "code",
   "execution_count": 80,
   "metadata": {},
   "outputs": [
    {
     "name": "stdout",
     "output_type": "stream",
     "text": [
      "Correct guess! :D Ball was in slot 0\n",
      "['O', ' ', ' ']\n"
     ]
    }
   ],
   "source": [
    "##Revised func with added details:\n",
    "#Initial list\n",
    "main_list=[' ',' ','O']\n",
    "\n",
    "#Shuffle list\n",
    "shffld_list=shuffle_list(main_list)\n",
    "\n",
    "#User guess the index\n",
    "user_guess=player_guess()\n",
    "\n",
    "#Check index with the shuffled list\n",
    "check_guess1(shffld_list,user_guess)"
   ]
  },
  {
   "cell_type": "markdown",
   "metadata": {},
   "source": [
    "___\n",
    "## <code>*args</code> and <code>**kwargs</code>\n",
    "*args and **kwargs are special parameters used when defining functions to accept a variable number of arguments. They provide a flexible way to handle different amounts of data passed to a function\n",
    "___"
   ]
  },
  {
   "cell_type": "markdown",
   "metadata": {},
   "source": [
    "Starting with <code>*args</code> parameter allows a function to accept an arbitrary number of positional arguments.<br>\n",
    "- When **`args`** is used in a function definition, **<mark>it collects all the positional arguments passed to the function into a tuple.</mark>**"
   ]
  },
  {
   "cell_type": "code",
   "execution_count": 81,
   "metadata": {},
   "outputs": [],
   "source": [
    "def a_func(*args):\n",
    "    return sum(args)"
   ]
  },
  {
   "cell_type": "markdown",
   "metadata": {},
   "source": [
    "_Here instead of defining each parameter ,we use <code>args</code> parameter when defining the function & its parameter._<br>\n",
    "This allows for all use-cases to be considered when using the func in practical applications"
   ]
  },
  {
   "cell_type": "code",
   "execution_count": 83,
   "metadata": {},
   "outputs": [
    {
     "data": {
      "text/plain": [
       "35"
      ]
     },
     "execution_count": 83,
     "metadata": {},
     "output_type": "execute_result"
    }
   ],
   "source": [
    "a_func(5,6,7,8,9)"
   ]
  },
  {
   "cell_type": "code",
   "execution_count": 84,
   "metadata": {},
   "outputs": [],
   "source": [
    "def a_func1(*args):\n",
    "    print(args)"
   ]
  },
  {
   "cell_type": "code",
   "execution_count": 85,
   "metadata": {},
   "outputs": [
    {
     "name": "stdout",
     "output_type": "stream",
     "text": [
      "('a', 3, 4)\n"
     ]
    }
   ],
   "source": [
    "a_func1('a',3,4)\n"
   ]
  },
  {
   "cell_type": "markdown",
   "metadata": {},
   "source": [
    "The **`kwargs`** syntax in Python functions is used to accept an arbitrary number of keyword arguments.<br>\n",
    "It allows you <mark>**to pass a variable number of keyword arguments to a function, and the function collects them into a dictionary**</mark>."
   ]
  },
  {
   "cell_type": "code",
   "execution_count": 86,
   "metadata": {},
   "outputs": [],
   "source": [
    "def b_func(**kwargs):\n",
    "    print(kwargs)"
   ]
  },
  {
   "cell_type": "code",
   "execution_count": 154,
   "metadata": {},
   "outputs": [
    {
     "name": "stdout",
     "output_type": "stream",
     "text": [
      "{'a': 1, 'b': 'qwerty', 'c': 'asd', 's': 'gfj'}\n"
     ]
    }
   ],
   "source": [
    "b_func(a=1,b='qwerty',c='asd',s='gfj')"
   ]
  },
  {
   "cell_type": "markdown",
   "metadata": {},
   "source": [
    "Accepting both **`args`** & **`kwargs`**....<br>\n",
    "This allows your function to accept a flexible number of both positional and keyword arguments"
   ]
  },
  {
   "cell_type": "code",
   "execution_count": 156,
   "metadata": {},
   "outputs": [],
   "source": [
    "def c_func(*args,**kwargs):\n",
    "    print(args)\n",
    "    print(kwargs)\n",
    "    print('{} is at the office on floor {}'.format(kwargs['name'],args[1]))"
   ]
  },
  {
   "cell_type": "code",
   "execution_count": 157,
   "metadata": {},
   "outputs": [
    {
     "name": "stdout",
     "output_type": "stream",
     "text": [
      "(1, 2, 3)\n",
      "{'name': 'Jim Haplert', 'name1': 'John Wick'}\n",
      "Jim Haplert is at the office on floor 2\n"
     ]
    }
   ],
   "source": [
    "c_func(1,2,3,name='Jim Haplert',name1='John Wick')"
   ]
  },
  {
   "cell_type": "markdown",
   "metadata": {},
   "source": [
    "**NOTE:** when calling the function, ensure the order of parameters is as defined in the function -- else it will throw an error"
   ]
  },
  {
   "cell_type": "code",
   "execution_count": 87,
   "metadata": {},
   "outputs": [],
   "source": [
    "def myfunc5(*args):\n",
    "    \n",
    "    aList=[x for x in args if x%2==0]\n",
    "    return(aList)\n"
   ]
  },
  {
   "cell_type": "code",
   "execution_count": 88,
   "metadata": {},
   "outputs": [
    {
     "data": {
      "text/plain": [
       "[-2, 4, 6]"
      ]
     },
     "execution_count": 88,
     "metadata": {},
     "output_type": "execute_result"
    }
   ],
   "source": [
    "myfunc5(-2,3,4,5,6)"
   ]
  },
  {
   "cell_type": "code",
   "execution_count": 113,
   "metadata": {},
   "outputs": [
    {
     "name": "stdout",
     "output_type": "stream",
     "text": [
      "['JOHN WICK']\n"
     ]
    }
   ],
   "source": [
    "wlist=\"john wick\"\n",
    "x=[]\n",
    "lenl=len(wlist)\n",
    "i=0\n",
    "while i < lenl:\n",
    "    if each%2 == 0:\n",
    "        x.append(val.upper())\n",
    "    else:\n",
    "        x.append(val.lower())\n",
    "    print(x)"
   ]
  },
  {
   "cell_type": "code",
   "execution_count": 118,
   "metadata": {},
   "outputs": [],
   "source": [
    "wlist=['johnwick',\"peralta\"]"
   ]
  },
  {
   "cell_type": "code",
   "execution_count": 4,
   "metadata": {},
   "outputs": [
    {
     "name": "stdout",
     "output_type": "stream",
     "text": [
      "['j', 'O', 'h', 'N', 'w', 'I', 'c', 'K']\n"
     ]
    }
   ],
   "source": [
    "astring='johnwick'\n",
    "i=0\n",
    "x=len(astring)\n",
    "y=[]\n",
    "while i<x:\n",
    "    if i%2==0:\n",
    "        y.append(astring[i].lower())\n",
    "    else:\n",
    "        y.append(astring[i].upper())\n",
    "        \n",
    "    i+=1\n",
    "print(y)"
   ]
  },
  {
   "cell_type": "code",
   "execution_count": 5,
   "metadata": {},
   "outputs": [
    {
     "name": "stdout",
     "output_type": "stream",
     "text": [
      "H\n"
     ]
    }
   ],
   "source": [
    "print(astring[2].upper())"
   ]
  },
  {
   "cell_type": "markdown",
   "metadata": {},
   "source": [
    "A func to alternate each charater of a string"
   ]
  },
  {
   "cell_type": "code",
   "execution_count": 1,
   "metadata": {},
   "outputs": [],
   "source": [
    "def myfunc(astring):\n",
    "    i=0\n",
    "    x=len(astring)\n",
    "    y=\"\"\n",
    "    while i<x:\n",
    "        if i%2==0:\n",
    "            y=y+(astring[i].lower())\n",
    "        else:\n",
    "            y=y+(astring[i].upper())\n",
    "            \n",
    "        i+=1\n",
    "    return(y)"
   ]
  },
  {
   "cell_type": "code",
   "execution_count": 6,
   "metadata": {},
   "outputs": [
    {
     "data": {
      "text/plain": [
       "'aBhI'"
      ]
     },
     "execution_count": 6,
     "metadata": {},
     "output_type": "execute_result"
    }
   ],
   "source": [
    "myfunc(\"abhi\")"
   ]
  },
  {
   "cell_type": "code",
   "execution_count": 7,
   "metadata": {},
   "outputs": [],
   "source": [
    "bh='john wick'"
   ]
  },
  {
   "cell_type": "code",
   "execution_count": 23,
   "metadata": {},
   "outputs": [
    {
     "name": "stdout",
     "output_type": "stream",
     "text": [
      "o\n"
     ]
    }
   ],
   "source": [
    "bh1=bh[1]\n",
    "print(bh1)"
   ]
  },
  {
   "cell_type": "code",
   "execution_count": 29,
   "metadata": {},
   "outputs": [
    {
     "name": "stdout",
     "output_type": "stream",
     "text": [
      "john\n",
      "wick\n"
     ]
    }
   ],
   "source": [
    "bhlist=bh.split()\n",
    "for each,val in enumerate(bhlist):\n",
    "    print(val)"
   ]
  },
  {
   "cell_type": "markdown",
   "metadata": {},
   "source": [
    "___\n",
    "# Lambdas: Maps & Filters\n",
    "## Map function"
   ]
  },
  {
   "cell_type": "code",
   "execution_count": 3,
   "metadata": {},
   "outputs": [],
   "source": [
    "#Given a list, square each element:\n",
    "alist=[1,2,3,4,25]\n"
   ]
  },
  {
   "cell_type": "code",
   "execution_count": 6,
   "metadata": {},
   "outputs": [],
   "source": [
    "def do_square(num):\n",
    "    return num**2"
   ]
  },
  {
   "cell_type": "code",
   "execution_count": 7,
   "metadata": {},
   "outputs": [
    {
     "data": {
      "text/plain": [
       "[1, 4, 9, 16, 625]"
      ]
     },
     "execution_count": 7,
     "metadata": {},
     "output_type": "execute_result"
    }
   ],
   "source": [
    "list(map(do_square,alist))"
   ]
  },
  {
   "cell_type": "code",
   "execution_count": 4,
   "metadata": {},
   "outputs": [
    {
     "name": "stdout",
     "output_type": "stream",
     "text": [
      "[1, 4, 9, 16, 625]\n"
     ]
    }
   ],
   "source": [
    "nlist=[]\n",
    "for each,val in enumerate(alist):\n",
    "    newval=val**2\n",
    "    nlist.append(newval)\n",
    "print(nlist)"
   ]
  },
  {
   "cell_type": "code",
   "execution_count": 14,
   "metadata": {},
   "outputs": [
    {
     "name": "stdout",
     "output_type": "stream",
     "text": [
      "Help on class map in module builtins:\n",
      "\n",
      "class map(object)\n",
      " |  map(func, *iterables) --> map object\n",
      " |  \n",
      " |  Make an iterator that computes the function using arguments from\n",
      " |  each of the iterables.  Stops when the shortest iterable is exhausted.\n",
      " |  \n",
      " |  Methods defined here:\n",
      " |  \n",
      " |  __getattribute__(self, name, /)\n",
      " |      Return getattr(self, name).\n",
      " |  \n",
      " |  __iter__(self, /)\n",
      " |      Implement iter(self).\n",
      " |  \n",
      " |  __next__(self, /)\n",
      " |      Implement next(self).\n",
      " |  \n",
      " |  __reduce__(...)\n",
      " |      Return state information for pickling.\n",
      " |  \n",
      " |  ----------------------------------------------------------------------\n",
      " |  Static methods defined here:\n",
      " |  \n",
      " |  __new__(*args, **kwargs) from builtins.type\n",
      " |      Create and return a new object.  See help(type) for accurate signature.\n",
      "\n"
     ]
    }
   ],
   "source": [
    "help(map)"
   ]
  },
  {
   "cell_type": "markdown",
   "metadata": {},
   "source": [
    "Defining a func called splicer below that works on a string to determine if its lenght is even ; else prints the first letter of the string. <br>\n",
    "**NOTE:** that func is meant to be applied on an individual string"
   ]
  },
  {
   "cell_type": "code",
   "execution_count": 8,
   "metadata": {},
   "outputs": [],
   "source": [
    "def splicer(somestring):\n",
    "    if len(somestring)%2 ==0:\n",
    "        return 'Even'\n",
    "    else:\n",
    "        return somestring[0]"
   ]
  },
  {
   "cell_type": "markdown",
   "metadata": {},
   "source": [
    "Defininig a separate list:"
   ]
  },
  {
   "cell_type": "code",
   "execution_count": 14,
   "metadata": {},
   "outputs": [],
   "source": [
    "name=['john','jim','jake','chris']"
   ]
  },
  {
   "cell_type": "markdown",
   "metadata": {},
   "source": [
    "Now, using <code>map</code> we'll apply the func to each individual element of the list"
   ]
  },
  {
   "cell_type": "code",
   "execution_count": 10,
   "metadata": {},
   "outputs": [
    {
     "data": {
      "text/plain": [
       "['Even', 'j', 'Even', 'c']"
      ]
     },
     "execution_count": 10,
     "metadata": {},
     "output_type": "execute_result"
    }
   ],
   "source": [
    "list(map(splicer,name))"
   ]
  },
  {
   "cell_type": "markdown",
   "metadata": {},
   "source": [
    "**<mark>Ensure that argument of the func can handle the iterable on which its supposed to work.</mark>**"
   ]
  },
  {
   "cell_type": "markdown",
   "metadata": {},
   "source": [
    "The result of a map can also be unpacked, since we'd called the output into a list:"
   ]
  },
  {
   "cell_type": "code",
   "execution_count": 12,
   "metadata": {},
   "outputs": [
    {
     "name": "stdout",
     "output_type": "stream",
     "text": [
      "Even\n",
      "j\n",
      "Even\n",
      "c\n"
     ]
    }
   ],
   "source": [
    "for each in map(splicer,name):\n",
    "    print(each)"
   ]
  },
  {
   "cell_type": "markdown",
   "metadata": {},
   "source": [
    "## Filters"
   ]
  },
  {
   "cell_type": "code",
   "execution_count": 13,
   "metadata": {},
   "outputs": [
    {
     "name": "stdout",
     "output_type": "stream",
     "text": [
      "Help on class filter in module builtins:\n",
      "\n",
      "class filter(object)\n",
      " |  filter(function or None, iterable) --> filter object\n",
      " |  \n",
      " |  Return an iterator yielding those items of iterable for which function(item)\n",
      " |  is true. If function is None, return the items that are true.\n",
      " |  \n",
      " |  Methods defined here:\n",
      " |  \n",
      " |  __getattribute__(self, name, /)\n",
      " |      Return getattr(self, name).\n",
      " |  \n",
      " |  __iter__(self, /)\n",
      " |      Implement iter(self).\n",
      " |  \n",
      " |  __next__(self, /)\n",
      " |      Implement next(self).\n",
      " |  \n",
      " |  __reduce__(...)\n",
      " |      Return state information for pickling.\n",
      " |  \n",
      " |  ----------------------------------------------------------------------\n",
      " |  Static methods defined here:\n",
      " |  \n",
      " |  __new__(*args, **kwargs) from builtins.type\n",
      " |      Create and return a new object.  See help(type) for accurate signature.\n",
      "\n"
     ]
    }
   ],
   "source": [
    "help(filter)"
   ]
  },
  {
   "cell_type": "markdown",
   "metadata": {},
   "source": [
    "___\n",
    "We'll create a func that checks & returns the number into a list if given number is Even.<br>\n",
    "So instead of using a <code>if-else</code> approach, the <code>filter</code> func will be applied to every item of the iterable object(List), such that only 'true' condition values will be returned.<br>\n",
    "The <code>filter</code> func literally filters out only those values from a list that meet the conditions as defined in the func.<br>\n",
    "This is unlike <code>map</code> func, whose purpose is to return every iterable from the iterable"
   ]
  },
  {
   "cell_type": "code",
   "execution_count": 17,
   "metadata": {},
   "outputs": [],
   "source": [
    "def check_even(num):\n",
    "    return num%2==0 #This is an equality comparison operator ,hence it'll be returning True/False"
   ]
  },
  {
   "cell_type": "code",
   "execution_count": 18,
   "metadata": {},
   "outputs": [
    {
     "data": {
      "text/plain": [
       "True"
      ]
     },
     "execution_count": 18,
     "metadata": {},
     "output_type": "execute_result"
    }
   ],
   "source": [
    "check_even(2)"
   ]
  },
  {
   "cell_type": "code",
   "execution_count": 10,
   "metadata": {},
   "outputs": [],
   "source": [
    "numList=[1,2,3,4,5,6,7,8]"
   ]
  },
  {
   "cell_type": "code",
   "execution_count": 21,
   "metadata": {},
   "outputs": [
    {
     "data": {
      "text/plain": [
       "[2, 4, 6, 8]"
      ]
     },
     "execution_count": 21,
     "metadata": {},
     "output_type": "execute_result"
    }
   ],
   "source": [
    "list(filter(check_even,numList))"
   ]
  },
  {
   "cell_type": "code",
   "execution_count": 22,
   "metadata": {},
   "outputs": [
    {
     "name": "stdout",
     "output_type": "stream",
     "text": [
      "2\n",
      "4\n",
      "6\n",
      "8\n"
     ]
    }
   ],
   "source": [
    "for each in filter(check_even,numList):\n",
    "    print(each)"
   ]
  },
  {
   "cell_type": "markdown",
   "metadata": {},
   "source": [
    "___\n",
    "## Lambdas:\n",
    "Small anonymous functions can be created with the lambda keyword.Lambda functions can be used wherever function objects are required.<br>\n",
    "Unlike regular functions, which are defined using the def keyword and have a name, lambda functions are anonymous and can be used wherever a function is expected\n"
   ]
  },
  {
   "cell_type": "code",
   "execution_count": 6,
   "metadata": {},
   "outputs": [],
   "source": [
    "# Usual function\n",
    "def make_square1(num):\n",
    "    return num**2"
   ]
  },
  {
   "cell_type": "code",
   "execution_count": 7,
   "metadata": {},
   "outputs": [
    {
     "data": {
      "text/plain": [
       "25"
      ]
     },
     "execution_count": 7,
     "metadata": {},
     "output_type": "execute_result"
    }
   ],
   "source": [
    "make_square1(5)"
   ]
  },
  {
   "cell_type": "markdown",
   "metadata": {},
   "source": [
    "Now converting to a lambda function:"
   ]
  },
  {
   "cell_type": "code",
   "execution_count": 8,
   "metadata": {},
   "outputs": [],
   "source": [
    "make_square = lambda num:num**2"
   ]
  },
  {
   "cell_type": "code",
   "execution_count": 9,
   "metadata": {},
   "outputs": [
    {
     "data": {
      "text/plain": [
       "25"
      ]
     },
     "execution_count": 9,
     "metadata": {},
     "output_type": "execute_result"
    }
   ],
   "source": [
    "make_square(5)"
   ]
  },
  {
   "cell_type": "markdown",
   "metadata": {},
   "source": [
    "Now using above lambda function in a <code>map</code> function:"
   ]
  },
  {
   "cell_type": "code",
   "execution_count": 11,
   "metadata": {},
   "outputs": [
    {
     "data": {
      "text/plain": [
       "[1, 4, 9, 16, 25, 36, 49, 64]"
      ]
     },
     "execution_count": 11,
     "metadata": {},
     "output_type": "execute_result"
    }
   ],
   "source": [
    "list(map(lambda num:num**2,numList))"
   ]
  },
  {
   "cell_type": "code",
   "execution_count": 12,
   "metadata": {},
   "outputs": [
    {
     "data": {
      "text/plain": [
       "[2, 4, 6, 8]"
      ]
     },
     "execution_count": 12,
     "metadata": {},
     "output_type": "execute_result"
    }
   ],
   "source": [
    "list(filter(lambda num:num%2==0,numList))"
   ]
  },
  {
   "cell_type": "code",
   "execution_count": 15,
   "metadata": {},
   "outputs": [
    {
     "data": {
      "text/plain": [
       "['john', 'jim', 'jake', 'chris']"
      ]
     },
     "execution_count": 15,
     "metadata": {},
     "output_type": "execute_result"
    }
   ],
   "source": [
    "name"
   ]
  },
  {
   "cell_type": "code",
   "execution_count": 16,
   "metadata": {},
   "outputs": [
    {
     "data": {
      "text/plain": [
       "['j', 'j', 'j', 'c']"
      ]
     },
     "execution_count": 16,
     "metadata": {},
     "output_type": "execute_result"
    }
   ],
   "source": [
    "list(map(lambda x:x[0],name))"
   ]
  },
  {
   "cell_type": "code",
   "execution_count": 18,
   "metadata": {},
   "outputs": [
    {
     "data": {
      "text/plain": [
       "['nhoj', 'mij', 'ekaj', 'sirhc']"
      ]
     },
     "execution_count": 18,
     "metadata": {},
     "output_type": "execute_result"
    }
   ],
   "source": [
    "list(map(lambda x:x[::-1],name))"
   ]
  },
  {
   "cell_type": "markdown",
   "metadata": {},
   "source": [
    "**NOTE:** Not every func can be passed into a lambda expression. <br>\n",
    "For complex functions it is better to create a function usin the conventional <code>def</code> method"
   ]
  },
  {
   "cell_type": "markdown",
   "metadata": {},
   "source": [
    "___\n",
    "# Nexted Statements &Scope\n",
    "Scope defines the visibility of a defined variable<br>\n"
   ]
  },
  {
   "cell_type": "code",
   "execution_count": 19,
   "metadata": {},
   "outputs": [],
   "source": [
    "x = 25\n",
    "\n",
    "def printer():\n",
    "    x = 50\n",
    "    return x"
   ]
  },
  {
   "cell_type": "code",
   "execution_count": 20,
   "metadata": {},
   "outputs": [
    {
     "name": "stdout",
     "output_type": "stream",
     "text": [
      "25\n"
     ]
    }
   ],
   "source": [
    "print(x)"
   ]
  },
  {
   "cell_type": "code",
   "execution_count": 52,
   "metadata": {},
   "outputs": [
    {
     "name": "stdout",
     "output_type": "stream",
     "text": [
      "Value of x as defined in the func: 50\n",
      "Value of x as defined at Global-level: 25\n"
     ]
    }
   ],
   "source": [
    "print(f'Value of x as defined in the func: {printer()}')\n",
    "print(f'Value of x as defined at Global-level: {x}')"
   ]
  },
  {
   "cell_type": "markdown",
   "metadata": {},
   "source": [
    "___\n",
    "How does Python know which assignment are we referring to? Why does the reassignment in cell-19 overwrite value of x ?<br>\n",
    "\n",
    "## LEGB\n",
    "When you reference a name in Python, the interpreter follows the LEGB rule to determine which scope to search for that name.<br> \n",
    "It starts by searching the local scope (L), then moves to the enclosing scope (E), followed by global scope (G) & finally the built-in scope (B) if the name is not found in the previous scopes.<br>\n"
   ]
  },
  {
   "cell_type": "code",
   "execution_count": 39,
   "metadata": {},
   "outputs": [],
   "source": [
    "# Global-Level\n",
    "name = \"This is a GLobal String\"\n",
    "\n",
    "# This is \n",
    "def greet():\n",
    "    # Enclose-Level\n",
    "    name = 'This is Enclosed string'\n",
    "\n",
    "    def hello():\n",
    "        #Local-Level\n",
    "        name='This is Local string'\n",
    "        print('Hello! '+name)\n",
    "    hello()"
   ]
  },
  {
   "cell_type": "markdown",
   "metadata": {},
   "source": [
    "The interpreter searches for the variable vlaue using the LEGB rule & since it found it at the local-level, returned the value found at that place.<br>\n",
    "Executing the <code>greet()</code> func returns output of the <code>hello()</code> func. This output is the value of 'name' variable as defined in <code>hello()</code> func itself.<br><br>\n",
    "The interpreter found the value of 'name' at local level itself ,hence returned *'This is Local string'* as the output.<br>\n",
    "If 'name' was commented out from <code>hello()</code>, then interpreter will search for the variable in <code>greet()</code> -- one level above the <code>hello()</code> func block. "
   ]
  },
  {
   "cell_type": "code",
   "execution_count": 42,
   "metadata": {},
   "outputs": [
    {
     "name": "stdout",
     "output_type": "stream",
     "text": [
      "Hello! This is Local string\n"
     ]
    }
   ],
   "source": [
    "greet()"
   ]
  },
  {
   "cell_type": "markdown",
   "metadata": {},
   "source": [
    "**NOTE:** the original value of the 'name' variable remains as declared at the global level -- one outside of all the defined funcs & loops"
   ]
  },
  {
   "cell_type": "code",
   "execution_count": 32,
   "metadata": {},
   "outputs": [
    {
     "data": {
      "text/plain": [
       "'This is a GLobal String'"
      ]
     },
     "execution_count": 32,
     "metadata": {},
     "output_type": "execute_result"
    }
   ],
   "source": [
    "name"
   ]
  },
  {
   "cell_type": "markdown",
   "metadata": {},
   "source": [
    "*Another example:*"
   ]
  },
  {
   "cell_type": "code",
   "execution_count": 59,
   "metadata": {},
   "outputs": [],
   "source": [
    "x = 50\n",
    "\n",
    "def func1(x):\n",
    "    print(f'Value of X is {x}')\n",
    "    #Local re-assignment:\n",
    "    x=200\n",
    "    print(f'Value of X is {x}')"
   ]
  },
  {
   "cell_type": "code",
   "execution_count": 60,
   "metadata": {},
   "outputs": [
    {
     "name": "stdout",
     "output_type": "stream",
     "text": [
      "Value of X is 50\n",
      "Value of X is 200\n"
     ]
    }
   ],
   "source": [
    "func1(x)"
   ]
  },
  {
   "cell_type": "code",
   "execution_count": 61,
   "metadata": {},
   "outputs": [
    {
     "name": "stdout",
     "output_type": "stream",
     "text": [
      "50\n"
     ]
    }
   ],
   "source": [
    "print(x)"
   ]
  },
  {
   "cell_type": "markdown",
   "metadata": {},
   "source": [
    "### Use of <code>global</code> keyword\n",
    "Above example shows the global value of x remained unchanged since it was outside of the <code>func1</code> function.<br>\n",
    "But what if we need to access a variable with Global scope at our local scope? This is possble with the <code>global</code> keyword"
   ]
  },
  {
   "cell_type": "code",
   "execution_count": 73,
   "metadata": {},
   "outputs": [],
   "source": [
    "x = 50\n",
    "\n",
    "def func2():\n",
    "    global x\n",
    "    print(f'Value of X is {x}')\n",
    "    #Local re-assignment at global namespace:\n",
    "    x='A New Val'\n",
    "    print(f'The Global value of X now changed to: {x}')"
   ]
  },
  {
   "cell_type": "code",
   "execution_count": 74,
   "metadata": {},
   "outputs": [
    {
     "name": "stdout",
     "output_type": "stream",
     "text": [
      "Value of X is 50\n",
      "The Global value of X now changed to: A New Val\n"
     ]
    }
   ],
   "source": [
    "func2()"
   ]
  },
  {
   "cell_type": "markdown",
   "metadata": {},
   "source": [
    "**NOTE:** It's important to use the global keyword with caution, as it can make the code less modular & harder to understand. In general, it's preferable to avoid relying heavily on global variables & instead pass variables as arguments to functions or return values from functions when possible."
   ]
  },
  {
   "cell_type": "code",
   "execution_count": null,
   "metadata": {},
   "outputs": [],
   "source": []
  }
 ],
 "metadata": {
  "kernelspec": {
   "display_name": "Python 3 (ipykernel)",
   "language": "python",
   "name": "python3"
  },
  "language_info": {
   "codemirror_mode": {
    "name": "ipython",
    "version": 3
   },
   "file_extension": ".py",
   "mimetype": "text/x-python",
   "name": "python",
   "nbconvert_exporter": "python",
   "pygments_lexer": "ipython3",
   "version": "3.11.5"
  }
 },
 "nbformat": 4,
 "nbformat_minor": 2
}
