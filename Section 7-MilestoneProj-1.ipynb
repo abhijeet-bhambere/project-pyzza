{
 "cells": [
  {
   "cell_type": "markdown",
   "metadata": {},
   "source": [
    "___\n",
    "# The Milestone-1 project\n",
    "## Step-1\n",
    "### Displaying info"
   ]
  },
  {
   "cell_type": "code",
   "execution_count": 1,
   "metadata": {},
   "outputs": [],
   "source": [
    "row1 = [' ',' ',' ']\n",
    "row2 = [' ',' ',' ']\n",
    "row3 = [' ',' ',' ']"
   ]
  },
  {
   "cell_type": "code",
   "execution_count": 2,
   "metadata": {},
   "outputs": [],
   "source": [
    "def dis():\n",
    "    print(row1)\n",
    "    print(row2)\n",
    "    print(row3)"
   ]
  },
  {
   "cell_type": "markdown",
   "metadata": {},
   "source": []
  },
  {
   "cell_type": "code",
   "execution_count": 3,
   "metadata": {},
   "outputs": [
    {
     "name": "stdout",
     "output_type": "stream",
     "text": [
      "[' ', ' ', ' ']\n",
      "[' ', ' ', ' ']\n",
      "[' ', ' ', ' ']\n"
     ]
    }
   ],
   "source": [
    "dis()"
   ]
  },
  {
   "cell_type": "code",
   "execution_count": 4,
   "metadata": {},
   "outputs": [],
   "source": [
    "row2[1]='X'"
   ]
  },
  {
   "cell_type": "code",
   "execution_count": 5,
   "metadata": {},
   "outputs": [
    {
     "name": "stdout",
     "output_type": "stream",
     "text": [
      "[' ', ' ', ' ']\n",
      "[' ', 'X', ' ']\n",
      "[' ', ' ', ' ']\n"
     ]
    }
   ],
   "source": [
    "dis()"
   ]
  },
  {
   "cell_type": "markdown",
   "metadata": {},
   "source": [
    "___\n",
    "## Step-2\n",
    "### Accepting user input"
   ]
  },
  {
   "cell_type": "code",
   "execution_count": 31,
   "metadata": {},
   "outputs": [
    {
     "data": {
      "text/plain": [
       "'345'"
      ]
     },
     "execution_count": 31,
     "metadata": {},
     "output_type": "execute_result"
    }
   ],
   "source": [
    "result = input(\"Enter value\")\n",
    "result"
   ]
  },
  {
   "cell_type": "markdown",
   "metadata": {},
   "source": [
    "**NOTE:** default data type of input func is a string. So this needs to be converted as per requirement"
   ]
  },
  {
   "cell_type": "code",
   "execution_count": 32,
   "metadata": {},
   "outputs": [
    {
     "data": {
      "text/plain": [
       "str"
      ]
     },
     "execution_count": 32,
     "metadata": {},
     "output_type": "execute_result"
    }
   ],
   "source": [
    "type(result)"
   ]
  },
  {
   "cell_type": "code",
   "execution_count": 33,
   "metadata": {},
   "outputs": [
    {
     "name": "stdout",
     "output_type": "stream",
     "text": [
      "<class 'int'>\n",
      "345\n"
     ]
    }
   ],
   "source": [
    "result=int(result)\n",
    "print(type(result))\n",
    "print(result)"
   ]
  },
  {
   "cell_type": "markdown",
   "metadata": {},
   "source": [
    "*Better way of converting the input into an int data type -- encapsulate the <code>input</code> func itself in the <code>int</code> func :*"
   ]
  },
  {
   "cell_type": "code",
   "execution_count": 35,
   "metadata": {},
   "outputs": [
    {
     "name": "stdout",
     "output_type": "stream",
     "text": [
      "X\n"
     ]
    }
   ],
   "source": [
    "pos = int(input(\"Choose index value (1-6): \"))\n",
    "'''Enter vlaie (1-6)'''\n",
    "location = row2[pos]\n",
    "\n",
    "print(location)"
   ]
  },
  {
   "cell_type": "markdown",
   "metadata": {},
   "source": [
    "___\n",
    "### Validating user input"
   ]
  },
  {
   "cell_type": "code",
   "execution_count": 36,
   "metadata": {},
   "outputs": [],
   "source": [
    "#(input(\"Choose index value (1-6): \"))"
   ]
  },
  {
   "cell_type": "markdown",
   "metadata": {},
   "source": [
    "*Consider above input statement. It HAS to be validated to ensure input is in required form ONLY.*<br>\n",
    "*Also, it should be within the defined range.*"
   ]
  },
  {
   "cell_type": "code",
   "execution_count": 74,
   "metadata": {},
   "outputs": [],
   "source": [
    "def testFunc():\n",
    "    user_input = 'sdassdf'\n",
    "\n",
    "    user_range = range(0,7)\n",
    "    within_range = False\n",
    "    \n",
    "    while (user_input.isdigit() == False) or within_range == False:\n",
    "        \n",
    "        user_input = input(\"Enter a val (1-6): \")\n",
    "\n",
    "        #Digit check\n",
    "        if user_input.isdigit() == False:\n",
    "            print('Sorry thats not a digit!')\n",
    "\n",
    "        #Range check\n",
    "        if user_input.isdigit() == True:\n",
    "            if int(user_input) in user_range:\n",
    "                within_range = True\n",
    "            else:\n",
    "                print('Out of defined range')\n",
    "                within_range = False\n",
    "\n",
    "\n",
    "    return int(user_input)\n",
    "    #user_num = user_input."
   ]
  },
  {
   "cell_type": "code",
   "execution_count": 75,
   "metadata": {},
   "outputs": [
    {
     "name": "stdout",
     "output_type": "stream",
     "text": [
      "Sorry thats not a digit!\n",
      "Sorry thats not a digit!\n",
      "Sorry thats not a digit!\n",
      "Out of defined range\n"
     ]
    },
    {
     "data": {
      "text/plain": [
       "4"
      ]
     },
     "execution_count": 75,
     "metadata": {},
     "output_type": "execute_result"
    }
   ],
   "source": [
    "testFunc()"
   ]
  },
  {
   "cell_type": "markdown",
   "metadata": {},
   "source": [
    "___\n",
    "### User Interaction\n",
    "Program will: Display a list ==> let user choose index position to edit ==> replace the value as per user input ==> display updated list"
   ]
  },
  {
   "cell_type": "markdown",
   "metadata": {},
   "source": [
    "So , we have funcs for:<br>\n",
    "1. Displaying the list<br>\n",
    "2. Accepting user input<br>\n",
    "3. Replacing as per user input<br>\n",
    "4. Exit game func -- continue playing or exit?"
   ]
  },
  {
   "cell_type": "code",
   "execution_count": 6,
   "metadata": {},
   "outputs": [],
   "source": [
    "game_list = [0,1,2]"
   ]
  },
  {
   "cell_type": "markdown",
   "metadata": {},
   "source": [
    "*First func -- Displaying list:*"
   ]
  },
  {
   "cell_type": "code",
   "execution_count": 18,
   "metadata": {},
   "outputs": [],
   "source": [
    "#This func prints the current list\n",
    "def display_game(game_list):\n",
    "    print(\"Current List is:\")\n",
    "    print(game_list)"
   ]
  },
  {
   "cell_type": "code",
   "execution_count": 19,
   "metadata": {},
   "outputs": [
    {
     "name": "stdout",
     "output_type": "stream",
     "text": [
      "Current List is:\n",
      "[0, '1', 2]\n"
     ]
    }
   ],
   "source": [
    "display_game(game_list)"
   ]
  },
  {
   "cell_type": "markdown",
   "metadata": {},
   "source": [
    "*Second func -- Accepting user input*"
   ]
  },
  {
   "cell_type": "code",
   "execution_count": 17,
   "metadata": {},
   "outputs": [],
   "source": [
    "#This func accepts user input\n",
    "def pos_choice():\n",
    "    choice = 'default'\n",
    "\n",
    "    while choice not in ['0','1','2']:\n",
    "        choice = input(\"Pick a position to edit [0-2]: \")\n",
    "\n",
    "        if choice not in ['0','1','2']:\n",
    "            print(\"Invalid choice!\")\n",
    "\n",
    "    return int(choice)"
   ]
  },
  {
   "cell_type": "code",
   "execution_count": 96,
   "metadata": {},
   "outputs": [
    {
     "data": {
      "text/plain": [
       "1"
      ]
     },
     "execution_count": 96,
     "metadata": {},
     "output_type": "execute_result"
    }
   ],
   "source": [
    "pos_choice()"
   ]
  },
  {
   "cell_type": "markdown",
   "metadata": {},
   "source": [
    "*Third func -- Replace value as per input*"
   ]
  },
  {
   "cell_type": "code",
   "execution_count": 11,
   "metadata": {},
   "outputs": [],
   "source": [
    "#This func takes in the replacement value. Utilizes game_list + pos_choice\n",
    "\n",
    "def replacement(game_list,position):\n",
    "    replaced_val = input(\"Type the replacement string: \")\n",
    "    game_list[position] = replaced_val\n",
    "\n",
    "    return game_list"
   ]
  },
  {
   "cell_type": "code",
   "execution_count": 12,
   "metadata": {},
   "outputs": [
    {
     "name": "stdout",
     "output_type": "stream",
     "text": [
      "Type the replacement string: 2\n"
     ]
    },
    {
     "data": {
      "text/plain": [
       "[0, '2', 'new']"
      ]
     },
     "execution_count": 12,
     "metadata": {},
     "output_type": "execute_result"
    }
   ],
   "source": [
    "replacement(game_list,1)"
   ]
  },
  {
   "cell_type": "markdown",
   "metadata": {},
   "source": [
    "*Fourth func -- resume or exit?*"
   ]
  },
  {
   "cell_type": "code",
   "execution_count": 14,
   "metadata": {},
   "outputs": [],
   "source": [
    "#THis func for continue or exit choice:\n",
    "def gameon_choice():\n",
    "    decision = 'default'\n",
    "    while decision not in ['Y','N']:\n",
    "        decision = input(\"Continue playing? (Y/N)\")\n",
    "\n",
    "        if decision not in ['Y','N']:\n",
    "            print(\"Not a valid choice, please choose Y/N: \")\n",
    "    \n",
    "    if decision == \"Y\":\n",
    "        print(\"Carry on..\")\n",
    "        return True\n",
    "    else:\n",
    "        print(\"Thanks for playing, Bye!\")\n",
    "        return False"
   ]
  },
  {
   "cell_type": "code",
   "execution_count": 15,
   "metadata": {},
   "outputs": [
    {
     "name": "stdout",
     "output_type": "stream",
     "text": [
      "Continue playing? (Y/N)N\n",
      "Thanks for playing, Bye!\n"
     ]
    },
    {
     "data": {
      "text/plain": [
       "False"
      ]
     },
     "execution_count": 15,
     "metadata": {},
     "output_type": "execute_result"
    }
   ],
   "source": [
    "gameon_choice()"
   ]
  },
  {
   "cell_type": "markdown",
   "metadata": {},
   "source": [
    "*Arriving at Final func, clubbing up above funcs:*"
   ]
  },
  {
   "cell_type": "code",
   "execution_count": 22,
   "metadata": {},
   "outputs": [
    {
     "name": "stdout",
     "output_type": "stream",
     "text": [
      "Current List is:\n",
      "[0, 1, 2]\n",
      "Pick a position to edit [0-2]: 1\n",
      "Type the replacement string: helloWorld\n",
      "Current List is:\n",
      "[0, 'helloWorld', 2]\n",
      "Continue playing? (Y/N)N\n",
      "Thanks for playing, Bye!\n"
     ]
    }
   ],
   "source": [
    "#Declaring defaults\n",
    "gameon = True\n",
    "game_list=[0,1,2]\n",
    "\n",
    "while gameon:\n",
    "    display_game(game_list)\n",
    "\n",
    "    position = pos_choice()\n",
    "\n",
    "    game_list = replacement(game_list,position)\n",
    "\n",
    "    display_game(game_list)\n",
    "\n",
    "    gameon = gameon_choice()"
   ]
  },
  {
   "cell_type": "markdown",
   "metadata": {},
   "source": [
    "# The Milestone Project-1\n",
    "A tic-tac-toe game for 2-players"
   ]
  },
  {
   "cell_type": "markdown",
   "metadata": {},
   "source": [
    "Player will use below numpad format to input:<br>\n",
    "&emsp;7  |  8  |  9<br>\n",
    "&emsp;-------------<br>\n",
    "&emsp;4  |  5 |  6<br>\n",
    "&emsp;-------------<br>\n",
    "&emsp;1  |  2  |  3<br>"
   ]
  },
  {
   "cell_type": "markdown",
   "metadata": {},
   "source": [
    "1. Code will ask Player1 for a value on numpad ==> X will be added at selected numpad value<br>\n",
    "2. Then Player2 needs to select a numoad value ==> O will be added here\n",
    "3. Then we'll check who has won or if there's a tie"
   ]
  },
  {
   "cell_type": "code",
   "execution_count": null,
   "metadata": {},
   "outputs": [],
   "source": []
  },
  {
   "cell_type": "code",
   "execution_count": null,
   "metadata": {},
   "outputs": [],
   "source": []
  },
  {
   "cell_type": "code",
   "execution_count": null,
   "metadata": {},
   "outputs": [],
   "source": []
  },
  {
   "cell_type": "code",
   "execution_count": null,
   "metadata": {},
   "outputs": [],
   "source": []
  },
  {
   "cell_type": "code",
   "execution_count": null,
   "metadata": {},
   "outputs": [],
   "source": []
  }
 ],
 "metadata": {
  "kernelspec": {
   "display_name": "Python 3 (ipykernel)",
   "language": "python",
   "name": "python3"
  },
  "language_info": {
   "codemirror_mode": {
    "name": "ipython",
    "version": 3
   },
   "file_extension": ".py",
   "mimetype": "text/x-python",
   "name": "python",
   "nbconvert_exporter": "python",
   "pygments_lexer": "ipython3",
   "version": "3.11.5"
  }
 },
 "nbformat": 4,
 "nbformat_minor": 2
}
