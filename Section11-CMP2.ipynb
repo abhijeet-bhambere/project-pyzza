{
 "cells": [
  {
   "cell_type": "markdown",
   "metadata": {},
   "source": [
    "# CMP-2\n",
    "The same CARD, DECK & PLAYER classes will be used from the <code>CMP-2 Run-up</code>"
   ]
  },
  {
   "cell_type": "markdown",
   "metadata": {},
   "source": [
    "Here are the requirements:\n",
    "<Br>\n",
    "You need to create a simple text-based BlackJack game<br>\n",
    "The game needs to have one player versus an automated dealer.<br>\n",
    "The player can stand or hit.<br>\n",
    "The player must be able to pick their betting amount.<br>\n",
    "You need to keep track of the player's total money.<br>\n",
    "You need to alert the player of wins, losses, or busts, etc...<br>\n",
    "<br>\n",
    "And most importantly:<br>\n",
    "<mark>You must use OOP and classes in some portion of your game.</mark> You can not just use functions in your game. Use classes to help you define the Deck and the Player's hand. There are many right ways to do this, so explore it well!<br>\n",
    "Feel free to expand this game. Try including multiple players. Try adding in Double-Down and card splits!\n",
    "___"
   ]
  },
  {
   "cell_type": "markdown",
   "metadata": {},
   "source": [
    "## To play a hand of Blackjack the following steps must be followed:\n",
    "\n",
    "1. Create a deck of 52 cards<br>\n",
    "2. Shuffle the deck<br>\n",
    "3. Ask the Player for their bet\n",
    "4. Make sure that the Player's bet does not exceed their available chips<br>\n",
    "5. Deal two cards to the Dealer and two cards to the Player<br>\n",
    "6. Show only one of the Dealer's cards, the other remains hidden<br>\n",
    "7. Show both of the Player's cards<br>\n",
    "8. Ask the Player if they wish to Hit, and take another card<br>\n",
    "9. If the Player's hand doesn't Bust (go over 21), ask if they'd like to Hit again.<br>\n",
    "10. If a Player Stands, play the Dealer's hand. The dealer will always Hit until the Dealer's value meets or exceeds 17<br>\n",
    "11. Determine the winner and adjust the Player's chips accordingly<br>\n",
    "12. Ask the Player if they'd like to play again"
   ]
  },
  {
   "cell_type": "code",
   "execution_count": 17,
   "metadata": {},
   "outputs": [],
   "source": [
    "import random\n",
    "\n",
    "suits = ('Hearts','Diamonds','Spades','Clubs')\n",
    "\n",
    "rank = ('Two', 'Three', 'Four', 'Five', 'Six', 'Seven', 'Eight', 'Nine', 'Ten', 'Jack', 'Queen', 'King', 'Ace')\n",
    "\n",
    "#Notice value assigned to face cards J,Q, K is 10 ; Ace is 11\n",
    "values = {'Two':2, 'Three':3, 'Four':4, 'Five':5, 'Six':6, 'Seven':7, \n",
    "          'Eight':8, 'Nine':9, 'Ten':10, 'Jack':10, 'Queen':10, 'King':10, 'Ace':11}\n",
    "\n",
    "#control value:\n",
    "game_on = True"
   ]
  },
  {
   "cell_type": "markdown",
   "metadata": {},
   "source": [
    "___\n",
    "## Defining Card class\n"
   ]
  },
  {
   "cell_type": "code",
   "execution_count": 18,
   "metadata": {},
   "outputs": [],
   "source": [
    "class Card:\n",
    "    def __init__(self,suits,rank):\n",
    "        '''Define a card by mentioning its Suit & Rank'''\n",
    "        self.suits=suits\n",
    "        self.rank=rank\n",
    "        self.value=values[rank]\n",
    "\n",
    "    def __str__(self):\n",
    "        return self.rank + \" of \" + self.suits\n"
   ]
  },
  {
   "cell_type": "markdown",
   "metadata": {},
   "source": [
    "___\n",
    "## Defining Deck Class"
   ]
  },
  {
   "cell_type": "code",
   "execution_count": 19,
   "metadata": {},
   "outputs": [],
   "source": [
    "class Deck:\n",
    "    '''Sets up the 4 suits with defined card objects along with all inherited attributes & methods of the Card class'''\n",
    "    def __init__(self):\n",
    "        self.deck = []\n",
    "        for suit in suits:\n",
    "            for rank1 in rank:\n",
    "                self.deck.append(Card(suit,rank1))\n",
    "    \n",
    "    #This is a string representation of above deck list\n",
    "    def __str__(self):\n",
    "        deck_comp = ''\n",
    "        for card in self.deck:\n",
    "            deck_comp += '\\n' + card.__str__()\n",
    "        return \"The deck has:\"+deck_comp\n",
    "    \n",
    "    def shuffle_deck(self):\n",
    "        random.shuffle(self.deck)\n",
    "\n",
    "    def deal(self):\n",
    "        single_card = self.deck.pop()\n",
    "        return single_card\n",
    "    "
   ]
  },
  {
   "cell_type": "markdown",
   "metadata": {},
   "source": [
    "___\n",
    "Printing a test deck"
   ]
  },
  {
   "cell_type": "code",
   "execution_count": 20,
   "metadata": {},
   "outputs": [
    {
     "name": "stdout",
     "output_type": "stream",
     "text": [
      "The deck has:\n",
      "Ace of Clubs\n",
      "Four of Diamonds\n",
      "Five of Diamonds\n",
      "Two of Hearts\n",
      "Three of Clubs\n",
      "Seven of Clubs\n",
      "Six of Spades\n",
      "Three of Diamonds\n",
      "Nine of Spades\n",
      "King of Spades\n",
      "Two of Clubs\n",
      "Six of Diamonds\n",
      "Queen of Hearts\n",
      "Jack of Clubs\n",
      "Ten of Diamonds\n",
      "Eight of Clubs\n",
      "Five of Hearts\n",
      "Nine of Clubs\n",
      "Eight of Diamonds\n",
      "Seven of Hearts\n",
      "Three of Hearts\n",
      "King of Clubs\n",
      "Queen of Spades\n",
      "King of Hearts\n",
      "Six of Clubs\n",
      "Queen of Diamonds\n",
      "Ace of Spades\n",
      "King of Diamonds\n",
      "Four of Clubs\n",
      "Queen of Clubs\n",
      "Jack of Spades\n",
      "Three of Spades\n",
      "Two of Diamonds\n",
      "Jack of Hearts\n",
      "Six of Hearts\n",
      "Ten of Clubs\n",
      "Ten of Spades\n",
      "Eight of Hearts\n",
      "Eight of Spades\n",
      "Ten of Hearts\n",
      "Ace of Diamonds\n",
      "Four of Spades\n",
      "Jack of Diamonds\n",
      "Seven of Spades\n",
      "Nine of Diamonds\n",
      "Five of Clubs\n",
      "Five of Spades\n",
      "Nine of Hearts\n",
      "Seven of Diamonds\n",
      "Four of Hearts\n",
      "Ace of Hearts\n",
      "Two of Spades\n"
     ]
    }
   ],
   "source": [
    "test_deck = Deck()\n",
    "test_deck.shuffle_deck()\n",
    "print(test_deck)"
   ]
  },
  {
   "cell_type": "code",
   "execution_count": 21,
   "metadata": {},
   "outputs": [
    {
     "data": {
      "text/plain": [
       "4"
      ]
     },
     "execution_count": 21,
     "metadata": {},
     "output_type": "execute_result"
    }
   ],
   "source": [
    "(test_deck.deck[1].value)"
   ]
  },
  {
   "cell_type": "markdown",
   "metadata": {},
   "source": [
    "___\n",
    "## Create a Hand Class\n",
    "In addition to holding Card objects dealt from the Deck, the Hand class may be used to calculate the value of those cards using the values dictionary defined above. It may also need to adjust for the value of Aces when appropriate."
   ]
  },
  {
   "cell_type": "code",
   "execution_count": 22,
   "metadata": {},
   "outputs": [],
   "source": [
    "class Hand:\n",
    "    def __init__(self):\n",
    "        self.cards = []\n",
    "        self.value = 0\n",
    "        self.aces = 0\n",
    "\n",
    "    #To add card from deck\n",
    "    def add_card(self,card):\n",
    "        #Note that card attribute linked to deal method of Deck class\n",
    "        # Deck.deal() --> single Card(suit,rank)\n",
    "        self.cards.append(card)\n",
    "        #Now extract the rank (data type:int) from card(suit,rank) to add to total value of the Hand\n",
    "        self.value += values[card.rank]\n",
    "\n",
    "        #Keeping track of aces\n",
    "        if card.rank=='Ace':\n",
    "            self.aces += 1\n",
    "\n",
    "    #Note that value of Ace depends on user-choice\n",
    "    def adj_for_ace(self):\n",
    "        #Consider default value of Ace as 11, adjust to one if total value >21 AND there's an Ace in the cards list\n",
    "        while self.value > 21 and self.aces:\n",
    "\n",
    "            #Adjusting the total value\n",
    "            self.value -= 10\n",
    "            #Adjusting the aces count\n",
    "            self.aces -= 1\n"
   ]
  },
  {
   "cell_type": "markdown",
   "metadata": {},
   "source": [
    "___\n",
    "Testing the classes & their methods: *it wil be ultimately used in designing the game logic*"
   ]
  },
  {
   "cell_type": "code",
   "execution_count": 23,
   "metadata": {},
   "outputs": [
    {
     "name": "stdout",
     "output_type": "stream",
     "text": [
      "Four of Clubs\n",
      "4\n"
     ]
    }
   ],
   "source": [
    "test_deck1 = Deck()\n",
    "test_deck1.shuffle_deck()\n",
    "\n",
    "#define a dummy player:\n",
    "test_player = Hand()\n",
    "\n",
    "#Now , pull one card from the Test_Deck\n",
    "#i.e. the deal method from Deck class\n",
    "pulled_card = test_deck1.deal()\n",
    "#And add it to this hand\n",
    "#i.e. the add_card method from Hand class\n",
    "print(pulled_card)\n",
    "test_player.add_card(pulled_card)\n",
    "#Also print it & the value it represents\n",
    "print(test_player.value)\n"
   ]
  },
  {
   "cell_type": "code",
   "execution_count": 24,
   "metadata": {},
   "outputs": [
    {
     "name": "stdout",
     "output_type": "stream",
     "text": [
      "14\n"
     ]
    }
   ],
   "source": [
    "#One-line implementation of above code:\n",
    "test_player.add_card(test_deck1.deal())\n",
    "print(test_player.value)"
   ]
  },
  {
   "cell_type": "markdown",
   "metadata": {},
   "source": [
    "___\n",
    "## Defining the Chips Class\n",
    "In addition to decks of cards and hands, we need to keep track of a Player's starting chips, bets, and ongoing winnings. This could be done using global variables, but in the spirit of object oriented programming, let's make a Chips class instead!"
   ]
  },
  {
   "cell_type": "code",
   "execution_count": 25,
   "metadata": {},
   "outputs": [],
   "source": [
    "class Chips:\n",
    "    #Default starting set to 100 but can be taken as user input\n",
    "    def __init__(self):\n",
    "        self.total = 100\n",
    "        self.bet = 0\n",
    "\n",
    "    def win_bet(self):\n",
    "        self.total += self.bet\n",
    "    \n",
    "    def lose_bet(self):\n",
    "        self.total -= self.bet\n"
   ]
  },
  {
   "cell_type": "markdown",
   "metadata": {},
   "source": [
    "___\n",
    "# Functions for Control Flow:\n",
    "Defining funcs for repetitive user or game logic actions"
   ]
  },
  {
   "cell_type": "code",
   "execution_count": 26,
   "metadata": {},
   "outputs": [],
   "source": [
    "# Func to take bets from players\n",
    "# Remember to check that a Player's bet can be covered by their available chips.\n",
    "def take_bets(chips):\n",
    "    while True:\n",
    "        try:\n",
    "            chips.bet = int(input(\"Select no. of chips to place bet: \"))\n",
    "        \n",
    "        except ValueError:\n",
    "            print('Invalid input, bet must be integer value')\n",
    "        \n",
    "        else:\n",
    "            if chips.bet > chips.total:\n",
    "                print(f'Sorry, bet cannot exceed {chips.total}')\n",
    "            else:\n",
    "                break"
   ]
  },
  {
   "cell_type": "code",
   "execution_count": 27,
   "metadata": {},
   "outputs": [],
   "source": [
    "# Func for Taking Hit\n",
    "#player can take hits until they bust. This function will be called during gameplay anytime a Player requests a hit, or a Dealer's hand is less than 17.\n",
    "# It'll take in Deck & Hand objects as arguments,  deal one card off the deck & add it to the Hand.\n",
    "# Also check for aces in the event that a player's hand exceeds 21.\n",
    "\n",
    "def hit(deck,hand):\n",
    "    single_card = deck.deal()\n",
    "    hand.add_card(single_card)\n",
    "    hand.adj_for_ace()"
   ]
  },
  {
   "cell_type": "markdown",
   "metadata": {},
   "source": []
  },
  {
   "cell_type": "code",
   "execution_count": 32,
   "metadata": {},
   "outputs": [],
   "source": [
    "#Func for Hit or Stand action:\n",
    "#The func accepts the deck & player's hand as arguments, and assigns playing as a global variable.# If the Player Hits, employ the hit() func above.\n",
    "# If the Player Stands, set the playing variable to False - this will control the behavior of a while loop later in the code.\n",
    "\n",
    "def hit_or_stand(deck,hand):\n",
    "    global playing #to control upcoming while loop later in the game flow logic\n",
    "    while True:\n",
    "        x = input(\"Enter 'h' or 's':\")\n",
    "        if x[0].lower() == 'h':\n",
    "            hit(deck,hand)\n",
    "        elif x[0].lower() == 's':\n",
    "            print(\"Player stands, dealer's turn\")\n",
    "            playing = False\n",
    "        else:\n",
    "            print('Invalid input, pls try again')\n",
    "            continue\n",
    "        break\n"
   ]
  },
  {
   "cell_type": "code",
   "execution_count": 42,
   "metadata": {},
   "outputs": [],
   "source": [
    "# Func to display card:\n",
    "# When the game starts, and after each time Player takes a card, the dealer's first card is hidden and all of Player's cards are visible.\n",
    "# At the end of the hand all cards are shown, and you may want to show each hand's total value. Write funcs for each of these scenarios.\n",
    "def show_some(player,dealer):\n",
    "    #show only one of the dealer's cards:\n",
    "    print(\"\\nDealer's hand (first card hidden): \")\n",
    "    print(dealer.cards[1])\n",
    "\n",
    "    #show all of the player's cards:\n",
    "    print(\"\\nPlayer's hand: \")\n",
    "    for card in player.cards:\n",
    "        print(card)\n",
    "    #print(\"Player's hand:\",*player.cards,sep='\\n') #NEW: Alternative to 'for' loop\n",
    "\n",
    "def show_all(player,dealer):\n",
    "    #show all of dealer's cards:\n",
    "    print(\"\\nDealer's hand: \")\n",
    "    for card in dealer.cards:\n",
    "        print(card)\n",
    "    #print(\"Dealer's hand:\",*dealer.cards,sep='\\n') #NEW: Alternative to 'for' loop\n",
    "    \n",
    "    #show total value of Dealer's deck\n",
    "    print(f\"Value  of dealer's hand is :{dealer.value}\")\n",
    "\n",
    "    #show all of the player's cards:\n",
    "    print(\"\\nPlayer's hand: \")\n",
    "    for card in player.cards:\n",
    "        print(card)\n",
    "    #show total value of Player's deck\n",
    "    print(f\"Value  of player's hand is :{player.value}\")\n",
    "    #print(\"Player's hand:\",*player.cards,sep='\\n') #NEW: Alternative to 'for' loop\n"
   ]
  },
  {
   "cell_type": "code",
   "execution_count": 36,
   "metadata": {},
   "outputs": [],
   "source": [
    "#Funcs to handle end of game scenarios (Remember to pass player's hand, dealer's hand and chips as needed).\n",
    "def player_bust(player,dealer,chips):\n",
    "    print(\"--BUST PLAYER!!--\")\n",
    "    chips.lose_bet()\n",
    "\n",
    "def player_wins(player,dealer,chips):\n",
    "    print(\"--PLAYER WINS!!--\")\n",
    "    chips.win_bet()\n",
    "\n",
    "def dealer_bust(player,dealer,chips):\n",
    "    print(\"--BUST DEALER, PLAYER WINS!!--\")\n",
    "    chips.lose_bet()\n",
    "\n",
    "def dealer_wins(player,dealer,chips):\n",
    "    print(\"--DEALER WINS!!--\")\n",
    "    chips.win_bet()\n",
    "\n",
    "def push(player,dealer,chips):\n",
    "    print(\"--Player and dealer tie PUSH!--\")"
   ]
  },
  {
   "cell_type": "markdown",
   "metadata": {},
   "source": [
    "___\n",
    "## The game logic:"
   ]
  },
  {
   "cell_type": "code",
   "execution_count": 39,
   "metadata": {},
   "outputs": [],
   "source": [
    "playing = True"
   ]
  },
  {
   "cell_type": "code",
   "execution_count": 47,
   "metadata": {},
   "outputs": [
    {
     "name": "stdout",
     "output_type": "stream",
     "text": [
      "---WELCOME TO BLACKJACK---\n",
      "\n",
      "Dealer's hand (first card hidden): \n",
      "King of Diamonds\n",
      "\n",
      "Player's hand: \n",
      "Jack of Hearts\n",
      "Jack of Spades\n",
      "Player stands, dealer's turn\n",
      "\n",
      "Dealer's hand (first card hidden): \n",
      "King of Diamonds\n",
      "\n",
      "Player's hand: \n",
      "Jack of Hearts\n",
      "Jack of Spades\n",
      "\n",
      "Dealer's hand: \n",
      "Ten of Hearts\n",
      "King of Diamonds\n",
      "Value  of dealer's hand is :20\n",
      "\n",
      "Player's hand: \n",
      "Jack of Hearts\n",
      "Jack of Spades\n",
      "Value  of player's hand is :20\n",
      "--Player and dealer tie PUSH!--\n",
      "\n",
      "Player's total chips are at:100\n",
      "Thank you for playing :)\n"
     ]
    }
   ],
   "source": [
    "#Opening statements & game setup\n",
    "while True:\n",
    "    print(\"---WELCOME TO BLACKJACK---\")\n",
    "    deck = Deck()\n",
    "    deck.shuffle_deck()\n",
    "\n",
    "    player_hand = Hand()\n",
    "    player_hand.add_card(deck.deal())\n",
    "    player_hand.add_card(deck.deal())\n",
    "\n",
    "    dealer_hand = Hand()\n",
    "    dealer_hand.add_card(deck.deal())\n",
    "    dealer_hand.add_card(deck.deal())\n",
    "\n",
    "    #Setup players' chips\n",
    "    player_chips = Chips()\n",
    "\n",
    "    #Prompt player for bet\n",
    "    take_bets(player_chips)\n",
    "\n",
    "    #Show cards -- (one card hidden in dealer's hand)\n",
    "    show_some(player_hand,dealer_hand)\n",
    "\n",
    "    #Hit or Stay scenarios:\n",
    "    while playing:\n",
    "        #Prompt for player to take a hit or stay:\n",
    "        hit_or_stand(deck,player_hand)\n",
    "\n",
    "        #Show some cards again after selection:\n",
    "        show_some(player_hand,dealer_hand)\n",
    "\n",
    "        if player_hand.value > 21:\n",
    "            player_bust(player_hand,dealer_hand,player_chips)\n",
    "        \n",
    "        break\n",
    "    \n",
    "    #Now dealer's turn:\n",
    "    if player_hand.value <= 21:\n",
    "        while dealer_hand.value <17: \n",
    "            hit(deck,dealer_hand) \n",
    "\n",
    "        #show all cards:\n",
    "        show_all(player_hand,dealer_hand)\n",
    "        \n",
    "        #run the different winning scenarios:\n",
    "        if dealer_hand.value > 21:\n",
    "            dealer_bust(player_hand,dealer_hand,player_chips)\n",
    "        elif dealer_hand.value > player_hand.value:\n",
    "            dealer_wins(player_hand,dealer_hand,player_chips)\n",
    "        elif dealer_hand.value < player_hand.value:\n",
    "            player_wins(player_hand,dealer_hand,player_chips)\n",
    "        else:\n",
    "            push(player_hand,dealer_hand,player_chips)\n",
    "\n",
    "    #Display final chips total:\n",
    "    print(f\"\\nPlayer's total chips are at:{player_chips.total}\")\n",
    "\n",
    "    #Ask to play again:\n",
    "    new_game = input('Play another round? [y/n]: ')\n",
    "    if new_game[0].lower() == 'y':\n",
    "        playing = True\n",
    "        continue\n",
    "    else:\n",
    "        print('Thank you for playing :)')\n",
    "        break"
   ]
  },
  {
   "cell_type": "code",
   "execution_count": null,
   "metadata": {},
   "outputs": [],
   "source": []
  }
 ],
 "metadata": {
  "kernelspec": {
   "display_name": ".venv",
   "language": "python",
   "name": "python3"
  },
  "language_info": {
   "codemirror_mode": {
    "name": "ipython",
    "version": 3
   },
   "file_extension": ".py",
   "mimetype": "text/x-python",
   "name": "python",
   "nbconvert_exporter": "python",
   "pygments_lexer": "ipython3",
   "version": "3.11.5"
  }
 },
 "nbformat": 4,
 "nbformat_minor": 2
}
