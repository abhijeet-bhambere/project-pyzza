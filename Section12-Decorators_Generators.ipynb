{
 "cells": [
  {
   "cell_type": "markdown",
   "metadata": {},
   "source": [
    "___\n",
    "# Python Decorators\n",
    "\n",
    "*A decorator is itself a function that takes another function as its argument*<br>\n",
    "<br>\n",
    "Functions are objects that can be passed into other objects.<br>\n",
    "\n"
   ]
  },
  {
   "cell_type": "code",
   "execution_count": 1,
   "metadata": {},
   "outputs": [],
   "source": [
    "#calling function within a function\n",
    "def hello(name='ab'):\n",
    "    print('The hello() func has been executed')\n",
    "\n",
    "    def greet():\n",
    "        return('\\tThis is the greet() func inside hello()')\n",
    "    \n",
    "    def welcome():\n",
    "        return('\\tThis is welcome() func inside hello()')\n",
    "\n",
    "    print(greet())\n",
    "    print(welcome())\n",
    "    print('This is the end of hello() func')\n",
    "\n"
   ]
  },
  {
   "cell_type": "code",
   "execution_count": 2,
   "metadata": {},
   "outputs": [
    {
     "name": "stdout",
     "output_type": "stream",
     "text": [
      "The hello() func has been executed\n",
      "\tThis is the greet() func inside hello()\n",
      "\tThis is welcome() func inside hello()\n",
      "This is the end of hello() func\n"
     ]
    }
   ],
   "source": [
    "testfunc = hello()"
   ]
  },
  {
   "cell_type": "markdown",
   "metadata": {},
   "source": [
    "In above statement we're only printing the outputs of the <code>greet()</code> & <code>welcome()</code> sub-funcs.<br>\n",
    "But these cannot be accessed outside of the <code>hello()</code> func currently since we're only printing them(their results).<br>\n",
    "<br>\n",
    "To access <code>greet()</code> & <code>welcome()</code> outside of <code>hello()</code>, we need the <code>hello()</code> func to return the sub-funcs themselves"
   ]
  },
  {
   "cell_type": "code",
   "execution_count": 3,
   "metadata": {},
   "outputs": [],
   "source": [
    "def hello_new(name='ab'):\n",
    "    print('The hello() has been executed')\n",
    "\n",
    "    def greet():\n",
    "        return('\\tThe greet() func inside hello()')\n",
    "    \n",
    "    def welcome():\n",
    "        return('\\tThe welcome() func inside hello()')\n",
    "    \n",
    "    print('Return a func')\n",
    "\n",
    "    if name=='ab':\n",
    "        return greet\n",
    "    \n",
    "    else:\n",
    "        return welcome"
   ]
  },
  {
   "cell_type": "code",
   "execution_count": 4,
   "metadata": {},
   "outputs": [
    {
     "name": "stdout",
     "output_type": "stream",
     "text": [
      "The hello() has been executed\n",
      "Return a func\n"
     ]
    }
   ],
   "source": [
    "afunc = hello_new('ab')"
   ]
  },
  {
   "cell_type": "markdown",
   "metadata": {},
   "source": [
    "*Note the new (assigned variable) points to the <code>greet()</code> func*"
   ]
  },
  {
   "cell_type": "code",
   "execution_count": 5,
   "metadata": {},
   "outputs": [
    {
     "data": {
      "text/plain": [
       "<function __main__.hello_new.<locals>.greet()>"
      ]
     },
     "execution_count": 5,
     "metadata": {},
     "output_type": "execute_result"
    }
   ],
   "source": [
    "afunc"
   ]
  },
  {
   "cell_type": "markdown",
   "metadata": {},
   "source": [
    "since passed parameter matches the default param & the condition, <code>greet()</code> func is executed on executing <code>afunc()</code>"
   ]
  },
  {
   "cell_type": "code",
   "execution_count": 6,
   "metadata": {},
   "outputs": [
    {
     "data": {
      "text/plain": [
       "'\\tThe greet() func inside hello()'"
      ]
     },
     "execution_count": 6,
     "metadata": {},
     "output_type": "execute_result"
    }
   ],
   "source": [
    "afunc()"
   ]
  },
  {
   "cell_type": "code",
   "execution_count": 7,
   "metadata": {},
   "outputs": [
    {
     "name": "stdout",
     "output_type": "stream",
     "text": [
      "The hello() has been executed\n",
      "Return a func\n"
     ]
    }
   ],
   "source": [
    "afunc1 = hello_new('zz')"
   ]
  },
  {
   "cell_type": "code",
   "execution_count": 8,
   "metadata": {},
   "outputs": [
    {
     "data": {
      "text/plain": [
       "<function __main__.hello_new.<locals>.welcome()>"
      ]
     },
     "execution_count": 8,
     "metadata": {},
     "output_type": "execute_result"
    }
   ],
   "source": [
    "afunc1"
   ]
  },
  {
   "cell_type": "code",
   "execution_count": 9,
   "metadata": {},
   "outputs": [
    {
     "data": {
      "text/plain": [
       "'\\tThe welcome() func inside hello()'"
      ]
     },
     "execution_count": 9,
     "metadata": {},
     "output_type": "execute_result"
    }
   ],
   "source": [
    "afunc1()"
   ]
  },
  {
   "cell_type": "code",
   "execution_count": 10,
   "metadata": {},
   "outputs": [
    {
     "name": "stdout",
     "output_type": "stream",
     "text": [
      "\tThe greet() func inside hello()\n",
      "\tThe welcome() func inside hello()\n"
     ]
    }
   ],
   "source": [
    "print(afunc())\n",
    "print(afunc1())"
   ]
  },
  {
   "cell_type": "markdown",
   "metadata": {},
   "source": [
    "*Another example of passing a function within another function:*"
   ]
  },
  {
   "cell_type": "code",
   "execution_count": 11,
   "metadata": {},
   "outputs": [],
   "source": [
    "def cool():\n",
    "    def super_cool():\n",
    "        return'This is the sub-func super_Cool()'\n",
    "\n",
    "    return super_cool"
   ]
  },
  {
   "cell_type": "markdown",
   "metadata": {},
   "source": [
    "Assigning the cool func ; executing the below line runs the <code>cool()</code> function & the <code>afunc2</code> variable gets assigned the logic of <code>super_cool()</code> function"
   ]
  },
  {
   "cell_type": "code",
   "execution_count": 12,
   "metadata": {},
   "outputs": [],
   "source": [
    "afunc2 = cool()"
   ]
  },
  {
   "cell_type": "code",
   "execution_count": 13,
   "metadata": {},
   "outputs": [
    {
     "data": {
      "text/plain": [
       "<function __main__.cool.<locals>.super_cool()>"
      ]
     },
     "execution_count": 13,
     "metadata": {},
     "output_type": "execute_result"
    }
   ],
   "source": [
    "afunc2"
   ]
  },
  {
   "cell_type": "code",
   "execution_count": 14,
   "metadata": {},
   "outputs": [
    {
     "data": {
      "text/plain": [
       "'This is the sub-func super_Cool()'"
      ]
     },
     "execution_count": 14,
     "metadata": {},
     "output_type": "execute_result"
    }
   ],
   "source": [
    "afunc2()"
   ]
  },
  {
   "cell_type": "markdown",
   "metadata": {},
   "source": [
    "*Above procedure sums up the idea of passing a func within a func or looking at it the other way around, wrapping a function inside another function*<br><br>\n",
    "___\n",
    "## Passing a function as an arg in another function:\n",
    "*Now we look to pass a function as an argument in another function:*"
   ]
  },
  {
   "cell_type": "code",
   "execution_count": 15,
   "metadata": {},
   "outputs": [],
   "source": [
    "def hello1():\n",
    "    return'Hi ,this is the hello1() function!'"
   ]
  },
  {
   "cell_type": "code",
   "execution_count": 16,
   "metadata": {},
   "outputs": [],
   "source": [
    "def other(another_func):\n",
    "    print('Now executing the func passed as argument:\\n')\n",
    "    print(another_func())"
   ]
  },
  {
   "cell_type": "markdown",
   "metadata": {},
   "source": [
    "*Note that we only pass the name of the function (i.e the raw func) and not execute the function itself:*"
   ]
  },
  {
   "cell_type": "code",
   "execution_count": 17,
   "metadata": {},
   "outputs": [
    {
     "name": "stdout",
     "output_type": "stream",
     "text": [
      "Now executing the func passed as argument:\n",
      "\n",
      "Hi ,this is the hello1() function!\n"
     ]
    }
   ],
   "source": [
    "other(hello1)"
   ]
  },
  {
   "cell_type": "markdown",
   "metadata": {},
   "source": [
    "___\n",
    "## Now creating actual Decorators:"
   ]
  },
  {
   "cell_type": "code",
   "execution_count": 18,
   "metadata": {},
   "outputs": [],
   "source": [
    "def decorator_func(some_func):\n",
    "    def wrap_func():\n",
    "        print('Below code wrapped in this decorator:\\n')\n",
    "        some_func()\n",
    "        print('\\nAbove code wrapped in this decorator!')\n",
    "\n",
    "    return wrap_func()"
   ]
  },
  {
   "cell_type": "code",
   "execution_count": 19,
   "metadata": {},
   "outputs": [],
   "source": [
    "def core_func():\n",
    "    print('This is the core func')"
   ]
  },
  {
   "cell_type": "markdown",
   "metadata": {},
   "source": [
    "One way to decorate the core_func would be to actually pass it as an argument in the <code>decorator()</code> func"
   ]
  },
  {
   "cell_type": "code",
   "execution_count": 20,
   "metadata": {},
   "outputs": [
    {
     "name": "stdout",
     "output_type": "stream",
     "text": [
      "Below code wrapped in this decorator:\n",
      "\n",
      "This is the core func\n",
      "\n",
      "Above code wrapped in this decorator!\n"
     ]
    }
   ],
   "source": [
    "afunc3 = decorator_func(core_func)"
   ]
  },
  {
   "cell_type": "markdown",
   "metadata": {},
   "source": [
    "*But to fully utilize the capability of decorator function, we 'wrap' the core function within  <code>decorator_func()</code> using the '@' operator*"
   ]
  },
  {
   "cell_type": "code",
   "execution_count": 21,
   "metadata": {},
   "outputs": [
    {
     "name": "stdout",
     "output_type": "stream",
     "text": [
      "Below code wrapped in this decorator:\n",
      "\n",
      "This is the core func\n",
      "\n",
      "Above code wrapped in this decorator!\n"
     ]
    }
   ],
   "source": [
    "@decorator_func\n",
    "def core_func():\n",
    "    print('This is the core func')"
   ]
  },
  {
   "cell_type": "markdown",
   "metadata": {},
   "source": [
    "___\n",
    "# Python Generators\n",
    "Generators in Python are a special class of functions that simplify the process of creating iterators. They allow you to declare a function that behaves like an iterator, meaning it can be used in a for loop.<br>\n",
    "<br>\n",
    "Generators use the <code>yield</code> keyword instead of <code>return</code> to produce a series of values lazily, one at a time, and only when required. This makes them memory efficient for large datasets."
   ]
  },
  {
   "cell_type": "markdown",
   "metadata": {},
   "source": [
    "Example: Use generators to create the fibonacci sequence"
   ]
  },
  {
   "cell_type": "code",
   "execution_count": 22,
   "metadata": {},
   "outputs": [],
   "source": [
    "def gen_fib(n):\n",
    "    a = 1\n",
    "    b = 1\n",
    "\n",
    "    for i in range(n):\n",
    "        yield a\n",
    "        a,b = b,a+b\n",
    "        "
   ]
  },
  {
   "cell_type": "code",
   "execution_count": 23,
   "metadata": {},
   "outputs": [
    {
     "name": "stdout",
     "output_type": "stream",
     "text": [
      "1\n",
      "1\n",
      "2\n",
      "3\n",
      "5\n",
      "8\n",
      "13\n",
      "21\n",
      "34\n",
      "55\n"
     ]
    }
   ],
   "source": [
    "for num in gen_fib(10):\n",
    "    print(num)"
   ]
  },
  {
   "cell_type": "code",
   "execution_count": 24,
   "metadata": {},
   "outputs": [],
   "source": [
    "f = gen_fib(7)"
   ]
  },
  {
   "cell_type": "code",
   "execution_count": 25,
   "metadata": {},
   "outputs": [
    {
     "name": "stdout",
     "output_type": "stream",
     "text": [
      "1\n"
     ]
    }
   ],
   "source": [
    "print(next(f))"
   ]
  },
  {
   "cell_type": "code",
   "execution_count": 26,
   "metadata": {},
   "outputs": [
    {
     "name": "stdout",
     "output_type": "stream",
     "text": [
      "1\n"
     ]
    }
   ],
   "source": [
    "print(next(f))"
   ]
  },
  {
   "cell_type": "markdown",
   "metadata": {},
   "source": [
    "Further calls to the generator function using the <code>next()</code> keyword <mark>resumes execution of the logic</mark> in <code>gen_fib()</code> func from its last preserved state<br><br>\n",
    "So calling it numerous times will keep on executing the logic of the <code>gen_fib()</code> func"
   ]
  },
  {
   "cell_type": "code",
   "execution_count": 27,
   "metadata": {},
   "outputs": [
    {
     "name": "stdout",
     "output_type": "stream",
     "text": [
      "2\n"
     ]
    }
   ],
   "source": [
    "print(next(f))"
   ]
  },
  {
   "cell_type": "markdown",
   "metadata": {},
   "source": [
    "Note that func stops to iterate since we passed only uptil first 7 values in the series. Since there is no more value left to yield as per the parameter , the StopIteration error message is displayed"
   ]
  },
  {
   "cell_type": "code",
   "execution_count": 32,
   "metadata": {},
   "outputs": [
    {
     "ename": "StopIteration",
     "evalue": "",
     "output_type": "error",
     "traceback": [
      "\u001b[1;31m---------------------------------------------------------------------------\u001b[0m",
      "\u001b[1;31mStopIteration\u001b[0m                             Traceback (most recent call last)",
      "Cell \u001b[1;32mIn[32], line 1\u001b[0m\n\u001b[1;32m----> 1\u001b[0m \u001b[38;5;28mprint\u001b[39m(\u001b[38;5;28;43mnext\u001b[39;49m\u001b[43m(\u001b[49m\u001b[43mf\u001b[49m\u001b[43m)\u001b[49m)\n",
      "\u001b[1;31mStopIteration\u001b[0m: "
     ]
    }
   ],
   "source": [
    "print(next(f))"
   ]
  },
  {
   "cell_type": "markdown",
   "metadata": {},
   "source": [
    "___\n",
    "## The <code>iter()</code> and <code>next()</code> funcs:"
   ]
  },
  {
   "cell_type": "markdown",
   "metadata": {},
   "source": [
    "To make a string iterable, use the <code>iter()</code> func & then pass it through the next to get each of the characters using the <code>next()</code> keyword"
   ]
  },
  {
   "cell_type": "code",
   "execution_count": 34,
   "metadata": {},
   "outputs": [],
   "source": [
    "name = 'ABHIJEET'\n",
    "name1 = iter(name)"
   ]
  },
  {
   "cell_type": "code",
   "execution_count": 40,
   "metadata": {},
   "outputs": [
    {
     "data": {
      "text/plain": [
       "'E'"
      ]
     },
     "execution_count": 40,
     "metadata": {},
     "output_type": "execute_result"
    }
   ],
   "source": [
    "next(name1)"
   ]
  },
  {
   "cell_type": "code",
   "execution_count": null,
   "metadata": {},
   "outputs": [],
   "source": []
  },
  {
   "cell_type": "code",
   "execution_count": null,
   "metadata": {},
   "outputs": [],
   "source": []
  }
 ],
 "metadata": {
  "kernelspec": {
   "display_name": ".venv",
   "language": "python",
   "name": "python3"
  },
  "language_info": {
   "codemirror_mode": {
    "name": "ipython",
    "version": 3
   },
   "file_extension": ".py",
   "mimetype": "text/x-python",
   "name": "python",
   "nbconvert_exporter": "python",
   "pygments_lexer": "ipython3",
   "version": "3.11.5"
  }
 },
 "nbformat": 4,
 "nbformat_minor": 2
}
